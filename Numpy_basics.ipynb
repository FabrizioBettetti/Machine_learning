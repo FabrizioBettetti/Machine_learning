{
  "nbformat": 4,
  "nbformat_minor": 0,
  "metadata": {
    "colab": {
      "provenance": [],
      "authorship_tag": "ABX9TyNBIN/Kiq74z/2/MZ+qhEMz",
      "include_colab_link": true
    },
    "kernelspec": {
      "name": "python3",
      "display_name": "Python 3"
    },
    "language_info": {
      "name": "python"
    }
  },
  "cells": [
    {
      "cell_type": "markdown",
      "metadata": {
        "id": "view-in-github",
        "colab_type": "text"
      },
      "source": [
        "<a href=\"https://colab.research.google.com/github/FabrizioBettetti/Machine_learning/blob/main/Numpy_basics.ipynb\" target=\"_parent\"><img src=\"https://colab.research.google.com/assets/colab-badge.svg\" alt=\"Open In Colab\"/></a>"
      ]
    },
    {
      "cell_type": "markdown",
      "source": [
        "#Introduction"
      ],
      "metadata": {
        "id": "c8ptSHptSnaa"
      }
    },
    {
      "cell_type": "code",
      "source": [
        "import numpy"
      ],
      "metadata": {
        "id": "pB6PnHxYH0k_"
      },
      "execution_count": 1,
      "outputs": []
    },
    {
      "cell_type": "code",
      "source": [
        "numpy.__version__"
      ],
      "metadata": {
        "colab": {
          "base_uri": "https://localhost:8080/",
          "height": 35
        },
        "id": "_wXwnfIcH3C7",
        "outputId": "990c66c9-3e63-4245-8a2c-70eaa9a92114"
      },
      "execution_count": 2,
      "outputs": [
        {
          "output_type": "execute_result",
          "data": {
            "text/plain": [
              "'2.0.2'"
            ],
            "application/vnd.google.colaboratory.intrinsic+json": {
              "type": "string"
            }
          },
          "metadata": {},
          "execution_count": 2
        }
      ]
    },
    {
      "cell_type": "code",
      "source": [
        "import numpy as np   #Efficient storage AND operations"
      ],
      "metadata": {
        "id": "GhEAo5TSILtF"
      },
      "execution_count": 3,
      "outputs": []
    },
    {
      "cell_type": "code",
      "source": [
        "np?"
      ],
      "metadata": {
        "id": "zTQ_wH-NIXFW"
      },
      "execution_count": 4,
      "outputs": []
    },
    {
      "cell_type": "markdown",
      "source": [
        "#Data types"
      ],
      "metadata": {
        "id": "4ZUbnx92TDaZ"
      }
    },
    {
      "cell_type": "markdown",
      "source": [
        "##Creating arrays"
      ],
      "metadata": {
        "id": "SSi6Al16TQix"
      }
    },
    {
      "cell_type": "code",
      "source": [
        "import array   #Fixed-type data buffer. Efficient storage"
      ],
      "metadata": {
        "id": "wPy7MJLG8BNF"
      },
      "execution_count": 5,
      "outputs": []
    },
    {
      "cell_type": "code",
      "source": [
        "L = list(range(10))\n",
        "A = array.array('i', L)   #'i': integer\n",
        "A"
      ],
      "metadata": {
        "colab": {
          "base_uri": "https://localhost:8080/"
        },
        "id": "PlMs7goe8DuT",
        "outputId": "7e21cccd-eace-4c5e-c16f-f5652b3b0b6a"
      },
      "execution_count": 6,
      "outputs": [
        {
          "output_type": "execute_result",
          "data": {
            "text/plain": [
              "array('i', [0, 1, 2, 3, 4, 5, 6, 7, 8, 9])"
            ]
          },
          "metadata": {},
          "execution_count": 6
        }
      ]
    },
    {
      "cell_type": "code",
      "execution_count": 7,
      "metadata": {
        "colab": {
          "base_uri": "https://localhost:8080/"
        },
        "id": "iYILLH1OHEe7",
        "outputId": "629154e4-4958-4a6c-89e4-c144efd4a7b8"
      },
      "outputs": [
        {
          "output_type": "execute_result",
          "data": {
            "text/plain": [
              "array(12)"
            ]
          },
          "metadata": {},
          "execution_count": 7
        }
      ],
      "source": [
        "x = np.array(12)\n",
        "x"
      ]
    },
    {
      "cell_type": "code",
      "source": [
        "x.ndim"
      ],
      "metadata": {
        "colab": {
          "base_uri": "https://localhost:8080/"
        },
        "id": "kcUkrYxxHPL9",
        "outputId": "bcc7ece1-7f41-457d-a8ad-7a7762f02354"
      },
      "execution_count": 8,
      "outputs": [
        {
          "output_type": "execute_result",
          "data": {
            "text/plain": [
              "0"
            ]
          },
          "metadata": {},
          "execution_count": 8
        }
      ]
    },
    {
      "cell_type": "code",
      "source": [
        "x = np.array([12, 3, 6, 14, 7])\n",
        "x"
      ],
      "metadata": {
        "colab": {
          "base_uri": "https://localhost:8080/"
        },
        "id": "ZSaHp-DDHTDo",
        "outputId": "be83d0bb-d52b-4cba-d11e-f0f21ff3f4a5"
      },
      "execution_count": 9,
      "outputs": [
        {
          "output_type": "execute_result",
          "data": {
            "text/plain": [
              "array([12,  3,  6, 14,  7])"
            ]
          },
          "metadata": {},
          "execution_count": 9
        }
      ]
    },
    {
      "cell_type": "code",
      "source": [
        "x.ndim"
      ],
      "metadata": {
        "colab": {
          "base_uri": "https://localhost:8080/"
        },
        "id": "hmJZsNGdHgxK",
        "outputId": "86afd070-cb8c-4b47-9fa1-eee29ca65868"
      },
      "execution_count": 10,
      "outputs": [
        {
          "output_type": "execute_result",
          "data": {
            "text/plain": [
              "1"
            ]
          },
          "metadata": {},
          "execution_count": 10
        }
      ]
    },
    {
      "cell_type": "code",
      "source": [
        "np.array([3.14, 4, 2, 3])   #Upcasting"
      ],
      "metadata": {
        "colab": {
          "base_uri": "https://localhost:8080/"
        },
        "id": "ySFcFKxc9Fna",
        "outputId": "3136ca4c-e1cf-4908-9f68-586161188246"
      },
      "execution_count": 11,
      "outputs": [
        {
          "output_type": "execute_result",
          "data": {
            "text/plain": [
              "array([3.14, 4.  , 2.  , 3.  ])"
            ]
          },
          "metadata": {},
          "execution_count": 11
        }
      ]
    },
    {
      "cell_type": "code",
      "source": [
        "np.array([1, 2, 3, 4], dtype='float32')"
      ],
      "metadata": {
        "colab": {
          "base_uri": "https://localhost:8080/"
        },
        "id": "HlepMaBp9QoR",
        "outputId": "adffe10a-ba3b-4e9a-fd62-c2d88d47a52c"
      },
      "execution_count": 12,
      "outputs": [
        {
          "output_type": "execute_result",
          "data": {
            "text/plain": [
              "array([1., 2., 3., 4.], dtype=float32)"
            ]
          },
          "metadata": {},
          "execution_count": 12
        }
      ]
    },
    {
      "cell_type": "code",
      "source": [
        "np.array([range(i, i + 3) for i in [2, 4, 6]])"
      ],
      "metadata": {
        "colab": {
          "base_uri": "https://localhost:8080/"
        },
        "id": "lAXtGy7W9jOq",
        "outputId": "27ddc62d-0f6c-4e7f-f078-b0872792f0e3"
      },
      "execution_count": 13,
      "outputs": [
        {
          "output_type": "execute_result",
          "data": {
            "text/plain": [
              "array([[2, 3, 4],\n",
              "       [4, 5, 6],\n",
              "       [6, 7, 8]])"
            ]
          },
          "metadata": {},
          "execution_count": 13
        }
      ]
    },
    {
      "cell_type": "code",
      "source": [
        "x = np.array([[5, 78, 2, 34, 0],\n",
        "              [6, 79, 3, 35, 1],\n",
        "              [7, 80, 4, 36, 2]])\n",
        "x.ndim"
      ],
      "metadata": {
        "colab": {
          "base_uri": "https://localhost:8080/"
        },
        "id": "_9GnLJ_CHi97",
        "outputId": "4167a9d2-6b64-4951-b8e0-94e89211cccd"
      },
      "execution_count": 14,
      "outputs": [
        {
          "output_type": "execute_result",
          "data": {
            "text/plain": [
              "2"
            ]
          },
          "metadata": {},
          "execution_count": 14
        }
      ]
    },
    {
      "cell_type": "code",
      "source": [
        "x = np.array([[[5, 78, 2, 34, 0],\n",
        "               [6, 79, 3, 35, 1],\n",
        "               [7, 80, 4, 36, 2]],\n",
        "              [[5, 78, 2, 34, 0],\n",
        "               [6, 79, 3, 35, 1],\n",
        "               [7, 80, 4, 36, 2]],\n",
        "              [[5, 78, 2, 34, 0],\n",
        "               [6, 79, 3, 35, 1],\n",
        "               [7, 80, 4, 36, 2]]])\n",
        "x.ndim"
      ],
      "metadata": {
        "colab": {
          "base_uri": "https://localhost:8080/"
        },
        "id": "9WTvxQH2IMqF",
        "outputId": "b33a6855-34ad-49bc-efc3-2294b9a336de"
      },
      "execution_count": 15,
      "outputs": [
        {
          "output_type": "execute_result",
          "data": {
            "text/plain": [
              "3"
            ]
          },
          "metadata": {},
          "execution_count": 15
        }
      ]
    },
    {
      "cell_type": "code",
      "source": [
        "np.zeros(10, dtype=int)"
      ],
      "metadata": {
        "colab": {
          "base_uri": "https://localhost:8080/"
        },
        "id": "4Ix8POwj-FES",
        "outputId": "03b8330b-5b1e-420d-f52a-01660f976dc3"
      },
      "execution_count": 16,
      "outputs": [
        {
          "output_type": "execute_result",
          "data": {
            "text/plain": [
              "array([0, 0, 0, 0, 0, 0, 0, 0, 0, 0])"
            ]
          },
          "metadata": {},
          "execution_count": 16
        }
      ]
    },
    {
      "cell_type": "code",
      "source": [
        "np.ones((3, 5), dtype=float)"
      ],
      "metadata": {
        "colab": {
          "base_uri": "https://localhost:8080/"
        },
        "id": "061JX7j_-PMN",
        "outputId": "125f75ab-af52-474c-af77-20fc2a290d24"
      },
      "execution_count": 17,
      "outputs": [
        {
          "output_type": "execute_result",
          "data": {
            "text/plain": [
              "array([[1., 1., 1., 1., 1.],\n",
              "       [1., 1., 1., 1., 1.],\n",
              "       [1., 1., 1., 1., 1.]])"
            ]
          },
          "metadata": {},
          "execution_count": 17
        }
      ]
    },
    {
      "cell_type": "code",
      "source": [
        "np.full((3, 5), 3.14)"
      ],
      "metadata": {
        "colab": {
          "base_uri": "https://localhost:8080/"
        },
        "id": "lwdWd-oi-XiO",
        "outputId": "2d21dce3-0149-4f6d-da1f-fe9eec11306d"
      },
      "execution_count": 18,
      "outputs": [
        {
          "output_type": "execute_result",
          "data": {
            "text/plain": [
              "array([[3.14, 3.14, 3.14, 3.14, 3.14],\n",
              "       [3.14, 3.14, 3.14, 3.14, 3.14],\n",
              "       [3.14, 3.14, 3.14, 3.14, 3.14]])"
            ]
          },
          "metadata": {},
          "execution_count": 18
        }
      ]
    },
    {
      "cell_type": "code",
      "source": [
        "np.arange(0, 20, 2)"
      ],
      "metadata": {
        "colab": {
          "base_uri": "https://localhost:8080/"
        },
        "id": "P1DbTrJe-lP6",
        "outputId": "dd05d3c4-7661-4c1a-d39d-af92a8a6409f"
      },
      "execution_count": 19,
      "outputs": [
        {
          "output_type": "execute_result",
          "data": {
            "text/plain": [
              "array([ 0,  2,  4,  6,  8, 10, 12, 14, 16, 18])"
            ]
          },
          "metadata": {},
          "execution_count": 19
        }
      ]
    },
    {
      "cell_type": "code",
      "source": [
        "np.linspace(0, 1, 5)"
      ],
      "metadata": {
        "colab": {
          "base_uri": "https://localhost:8080/"
        },
        "id": "zF30zZAM-rzX",
        "outputId": "fd49262d-b4e1-4f91-c828-1e9776ae786a"
      },
      "execution_count": 20,
      "outputs": [
        {
          "output_type": "execute_result",
          "data": {
            "text/plain": [
              "array([0.  , 0.25, 0.5 , 0.75, 1.  ])"
            ]
          },
          "metadata": {},
          "execution_count": 20
        }
      ]
    },
    {
      "cell_type": "code",
      "source": [
        "np.random.random((3, 3))   #Uniform distribution in [0, 1)"
      ],
      "metadata": {
        "colab": {
          "base_uri": "https://localhost:8080/"
        },
        "id": "9C7989GZ-3KQ",
        "outputId": "41e1c41b-a7ec-4cb0-b1c3-3b6cce35fa4d"
      },
      "execution_count": 21,
      "outputs": [
        {
          "output_type": "execute_result",
          "data": {
            "text/plain": [
              "array([[0.37550395, 0.22537082, 0.12318816],\n",
              "       [0.39920917, 0.79407398, 0.72727166],\n",
              "       [0.81724777, 0.35513692, 0.31789305]])"
            ]
          },
          "metadata": {},
          "execution_count": 21
        }
      ]
    },
    {
      "cell_type": "code",
      "source": [
        "np.random.normal(0, 1, (3, 3))   #Normal distribution with mean = 0 and standard deviation = 1"
      ],
      "metadata": {
        "colab": {
          "base_uri": "https://localhost:8080/"
        },
        "id": "J-HFo8kS_Jmd",
        "outputId": "43ec132e-ec87-40ea-8d6c-1e1d94a0cba7"
      },
      "execution_count": 22,
      "outputs": [
        {
          "output_type": "execute_result",
          "data": {
            "text/plain": [
              "array([[ 0.71775277, -0.17330145,  0.27353197],\n",
              "       [ 0.5386533 ,  0.53372123, -0.93631496],\n",
              "       [-0.89622647, -0.06506623,  0.33808434]])"
            ]
          },
          "metadata": {},
          "execution_count": 22
        }
      ]
    },
    {
      "cell_type": "code",
      "source": [
        "np.random.randint(0, 10, (3, 3))   #Discrete uniform distribution in [0, 10)"
      ],
      "metadata": {
        "colab": {
          "base_uri": "https://localhost:8080/"
        },
        "id": "lypmPWFt_cyc",
        "outputId": "fe5857c6-9a7d-4c27-aa6d-69c2b4650b9d"
      },
      "execution_count": 23,
      "outputs": [
        {
          "output_type": "execute_result",
          "data": {
            "text/plain": [
              "array([[1, 1, 4],\n",
              "       [9, 0, 1],\n",
              "       [5, 7, 3]])"
            ]
          },
          "metadata": {},
          "execution_count": 23
        }
      ]
    },
    {
      "cell_type": "code",
      "source": [
        "np.eye(3)"
      ],
      "metadata": {
        "colab": {
          "base_uri": "https://localhost:8080/"
        },
        "id": "HBoycg-__uT6",
        "outputId": "ee1ce316-efc8-4cfe-bec7-6acbce9517b0"
      },
      "execution_count": 24,
      "outputs": [
        {
          "output_type": "execute_result",
          "data": {
            "text/plain": [
              "array([[1., 0., 0.],\n",
              "       [0., 1., 0.],\n",
              "       [0., 0., 1.]])"
            ]
          },
          "metadata": {},
          "execution_count": 24
        }
      ]
    },
    {
      "cell_type": "code",
      "source": [
        "#Create an uninitialized array of three integers.\n",
        "#The values will be whatever happens to already exist at that memory location\n",
        "np.empty(3)"
      ],
      "metadata": {
        "colab": {
          "base_uri": "https://localhost:8080/"
        },
        "id": "_AuOwUT9_z5Y",
        "outputId": "beac7c5b-5f07-48cf-9500-58861b7a46fb"
      },
      "execution_count": 25,
      "outputs": [
        {
          "output_type": "execute_result",
          "data": {
            "text/plain": [
              "array([1., 1., 1.])"
            ]
          },
          "metadata": {},
          "execution_count": 25
        }
      ]
    },
    {
      "cell_type": "markdown",
      "source": [
        "##Standard data types"
      ],
      "metadata": {
        "id": "rq-nRQknTthS"
      }
    },
    {
      "cell_type": "code",
      "source": [
        "np.zeros(10, dtype='int16')"
      ],
      "metadata": {
        "colab": {
          "base_uri": "https://localhost:8080/"
        },
        "id": "MrkRM0f1A-at",
        "outputId": "4102d57d-b67b-46e2-bcab-4788978c1300"
      },
      "execution_count": 26,
      "outputs": [
        {
          "output_type": "execute_result",
          "data": {
            "text/plain": [
              "array([0, 0, 0, 0, 0, 0, 0, 0, 0, 0], dtype=int16)"
            ]
          },
          "metadata": {},
          "execution_count": 26
        }
      ]
    },
    {
      "cell_type": "code",
      "source": [
        "np.zeros(10, dtype=np.int16)"
      ],
      "metadata": {
        "colab": {
          "base_uri": "https://localhost:8080/"
        },
        "id": "X2hek9sBBFtT",
        "outputId": "c0570326-edc7-4436-dfcf-adee26c72089"
      },
      "execution_count": 27,
      "outputs": [
        {
          "output_type": "execute_result",
          "data": {
            "text/plain": [
              "array([0, 0, 0, 0, 0, 0, 0, 0, 0, 0], dtype=int16)"
            ]
          },
          "metadata": {},
          "execution_count": 27
        }
      ]
    },
    {
      "cell_type": "markdown",
      "source": [
        "#Basics of numpy arrays"
      ],
      "metadata": {
        "id": "RbzabMXdT0eR"
      }
    },
    {
      "cell_type": "markdown",
      "source": [
        "##Numpy array attributes"
      ],
      "metadata": {
        "id": "ieDbPtIXT5XB"
      }
    },
    {
      "cell_type": "code",
      "source": [
        "np.random.seed(0)\n",
        "\n",
        "x1 = np.random.randint(10, size=6)\n",
        "x2 = np.random.randint(10, size=(3, 4))\n",
        "x3 = np.random.randint(10, size=(3, 4, 5))\n",
        "#Discrete uniform distribution in [0, 10)"
      ],
      "metadata": {
        "id": "qfi3ZDlNDOA2"
      },
      "execution_count": 28,
      "outputs": []
    },
    {
      "cell_type": "code",
      "source": [
        "print('x3 ndim:', x3.ndim)\n",
        "print('x3 shape:', x3.shape)\n",
        "print('x3 size:', x3.size)"
      ],
      "metadata": {
        "colab": {
          "base_uri": "https://localhost:8080/"
        },
        "id": "YdXhuykDDrVb",
        "outputId": "43ee6af8-e92c-49b5-8944-f40a885a5ae9"
      },
      "execution_count": 29,
      "outputs": [
        {
          "output_type": "stream",
          "name": "stdout",
          "text": [
            "x3 ndim: 3\n",
            "x3 shape: (3, 4, 5)\n",
            "x3 size: 60\n"
          ]
        }
      ]
    },
    {
      "cell_type": "code",
      "source": [
        "print('dtype:', x3.dtype)"
      ],
      "metadata": {
        "colab": {
          "base_uri": "https://localhost:8080/"
        },
        "id": "xTJiRFp7EFSw",
        "outputId": "600d23ff-0daa-4ee3-d236-097a71427817"
      },
      "execution_count": 30,
      "outputs": [
        {
          "output_type": "stream",
          "name": "stdout",
          "text": [
            "dtype: int64\n"
          ]
        }
      ]
    },
    {
      "cell_type": "code",
      "source": [
        "print('itemsize:', x3.itemsize, 'bytes')\n",
        "print('nbytes:', x3.nbytes, 'bytes')"
      ],
      "metadata": {
        "colab": {
          "base_uri": "https://localhost:8080/"
        },
        "id": "nd-dgBo_ERLh",
        "outputId": "57a2f88f-dc68-4f73-ba6a-d16614541668"
      },
      "execution_count": 31,
      "outputs": [
        {
          "output_type": "stream",
          "name": "stdout",
          "text": [
            "itemsize: 8 bytes\n",
            "nbytes: 480 bytes\n"
          ]
        }
      ]
    },
    {
      "cell_type": "markdown",
      "source": [
        "##Array indexing: accessing single elements"
      ],
      "metadata": {
        "id": "EvrOt2_pT_cp"
      }
    },
    {
      "cell_type": "code",
      "source": [
        "x1"
      ],
      "metadata": {
        "colab": {
          "base_uri": "https://localhost:8080/"
        },
        "id": "aeKlxUq8E4FI",
        "outputId": "1839c992-0b94-494a-da1c-ba6cf2590e1d"
      },
      "execution_count": 32,
      "outputs": [
        {
          "output_type": "execute_result",
          "data": {
            "text/plain": [
              "array([5, 0, 3, 3, 7, 9])"
            ]
          },
          "metadata": {},
          "execution_count": 32
        }
      ]
    },
    {
      "cell_type": "code",
      "source": [
        "x1[0]"
      ],
      "metadata": {
        "colab": {
          "base_uri": "https://localhost:8080/"
        },
        "id": "gj8rz0zhE8SK",
        "outputId": "7e954f4c-1c86-4ef0-b9ae-549cf815c9da"
      },
      "execution_count": 33,
      "outputs": [
        {
          "output_type": "execute_result",
          "data": {
            "text/plain": [
              "np.int64(5)"
            ]
          },
          "metadata": {},
          "execution_count": 33
        }
      ]
    },
    {
      "cell_type": "code",
      "source": [
        "x1[4]"
      ],
      "metadata": {
        "colab": {
          "base_uri": "https://localhost:8080/"
        },
        "id": "8Akiv2z9E-_E",
        "outputId": "ad367e01-0104-41b5-e503-d2bd56d25ebb"
      },
      "execution_count": 34,
      "outputs": [
        {
          "output_type": "execute_result",
          "data": {
            "text/plain": [
              "np.int64(7)"
            ]
          },
          "metadata": {},
          "execution_count": 34
        }
      ]
    },
    {
      "cell_type": "code",
      "source": [
        "x1[-1]"
      ],
      "metadata": {
        "colab": {
          "base_uri": "https://localhost:8080/"
        },
        "id": "s06Ikg4jFIi6",
        "outputId": "7128a00d-870b-4390-b75d-3dfc7a685594"
      },
      "execution_count": 35,
      "outputs": [
        {
          "output_type": "execute_result",
          "data": {
            "text/plain": [
              "np.int64(9)"
            ]
          },
          "metadata": {},
          "execution_count": 35
        }
      ]
    },
    {
      "cell_type": "code",
      "source": [
        "x1[-2]"
      ],
      "metadata": {
        "colab": {
          "base_uri": "https://localhost:8080/"
        },
        "id": "99TLYU86FKLj",
        "outputId": "f889d104-4b1a-49d4-b412-e827873b2b5f"
      },
      "execution_count": 36,
      "outputs": [
        {
          "output_type": "execute_result",
          "data": {
            "text/plain": [
              "np.int64(7)"
            ]
          },
          "metadata": {},
          "execution_count": 36
        }
      ]
    },
    {
      "cell_type": "code",
      "source": [
        "x2"
      ],
      "metadata": {
        "colab": {
          "base_uri": "https://localhost:8080/"
        },
        "id": "NRTG65yaFPX3",
        "outputId": "bf000934-5f43-493c-af83-7b7a6d6d8afb"
      },
      "execution_count": 37,
      "outputs": [
        {
          "output_type": "execute_result",
          "data": {
            "text/plain": [
              "array([[3, 5, 2, 4],\n",
              "       [7, 6, 8, 8],\n",
              "       [1, 6, 7, 7]])"
            ]
          },
          "metadata": {},
          "execution_count": 37
        }
      ]
    },
    {
      "cell_type": "code",
      "source": [
        "x2[0, 0]"
      ],
      "metadata": {
        "colab": {
          "base_uri": "https://localhost:8080/"
        },
        "id": "jVNnHx17FRti",
        "outputId": "a6432fb4-4778-438f-f15e-59f9ba081dbd"
      },
      "execution_count": 38,
      "outputs": [
        {
          "output_type": "execute_result",
          "data": {
            "text/plain": [
              "np.int64(3)"
            ]
          },
          "metadata": {},
          "execution_count": 38
        }
      ]
    },
    {
      "cell_type": "code",
      "source": [
        "x2[2, 0]"
      ],
      "metadata": {
        "colab": {
          "base_uri": "https://localhost:8080/"
        },
        "id": "u7G4knNlFV6y",
        "outputId": "99acc3a5-ab61-4140-a72b-b857a091c073"
      },
      "execution_count": 39,
      "outputs": [
        {
          "output_type": "execute_result",
          "data": {
            "text/plain": [
              "np.int64(1)"
            ]
          },
          "metadata": {},
          "execution_count": 39
        }
      ]
    },
    {
      "cell_type": "code",
      "source": [
        "x2[2, -1]"
      ],
      "metadata": {
        "colab": {
          "base_uri": "https://localhost:8080/"
        },
        "id": "vw4EIrzYFXaz",
        "outputId": "0160e01e-4da5-4cac-df8f-b8af45abf801"
      },
      "execution_count": 40,
      "outputs": [
        {
          "output_type": "execute_result",
          "data": {
            "text/plain": [
              "np.int64(7)"
            ]
          },
          "metadata": {},
          "execution_count": 40
        }
      ]
    },
    {
      "cell_type": "code",
      "source": [
        "x2[0, 0] = 12\n",
        "x2"
      ],
      "metadata": {
        "colab": {
          "base_uri": "https://localhost:8080/"
        },
        "id": "6g-06dKSFgYs",
        "outputId": "7debf434-bd26-47d2-a671-0ff855ef0f07"
      },
      "execution_count": 41,
      "outputs": [
        {
          "output_type": "execute_result",
          "data": {
            "text/plain": [
              "array([[12,  5,  2,  4],\n",
              "       [ 7,  6,  8,  8],\n",
              "       [ 1,  6,  7,  7]])"
            ]
          },
          "metadata": {},
          "execution_count": 41
        }
      ]
    },
    {
      "cell_type": "code",
      "source": [
        "x1[0] = 3.14159   #Truncated because of integer dtype array\n",
        "x1"
      ],
      "metadata": {
        "colab": {
          "base_uri": "https://localhost:8080/"
        },
        "id": "uv7zGRLYFsiK",
        "outputId": "41f34503-320a-47cb-a1b6-22e38515e5b3"
      },
      "execution_count": 42,
      "outputs": [
        {
          "output_type": "execute_result",
          "data": {
            "text/plain": [
              "array([3, 0, 3, 3, 7, 9])"
            ]
          },
          "metadata": {},
          "execution_count": 42
        }
      ]
    },
    {
      "cell_type": "markdown",
      "source": [
        "##Array slicing: accessing subarrays"
      ],
      "metadata": {
        "id": "y9z17F0xUHGy"
      }
    },
    {
      "cell_type": "code",
      "source": [
        "x = np.arange(10)\n",
        "x"
      ],
      "metadata": {
        "colab": {
          "base_uri": "https://localhost:8080/"
        },
        "id": "QKFGa4TJGIrn",
        "outputId": "5f183a62-9e2a-44a7-95f4-1ebb69131405"
      },
      "execution_count": 43,
      "outputs": [
        {
          "output_type": "execute_result",
          "data": {
            "text/plain": [
              "array([0, 1, 2, 3, 4, 5, 6, 7, 8, 9])"
            ]
          },
          "metadata": {},
          "execution_count": 43
        }
      ]
    },
    {
      "cell_type": "code",
      "source": [
        "x[:5]"
      ],
      "metadata": {
        "colab": {
          "base_uri": "https://localhost:8080/"
        },
        "id": "qC3OIY6YGM8E",
        "outputId": "c12fce2f-da3b-42d5-b484-1f20b9c8fe32"
      },
      "execution_count": 44,
      "outputs": [
        {
          "output_type": "execute_result",
          "data": {
            "text/plain": [
              "array([0, 1, 2, 3, 4])"
            ]
          },
          "metadata": {},
          "execution_count": 44
        }
      ]
    },
    {
      "cell_type": "code",
      "source": [
        "x[5:]"
      ],
      "metadata": {
        "colab": {
          "base_uri": "https://localhost:8080/"
        },
        "id": "9eHK18uvGQFE",
        "outputId": "1b15c980-7ea8-4fd2-e1a8-fd5b2f95740d"
      },
      "execution_count": 45,
      "outputs": [
        {
          "output_type": "execute_result",
          "data": {
            "text/plain": [
              "array([5, 6, 7, 8, 9])"
            ]
          },
          "metadata": {},
          "execution_count": 45
        }
      ]
    },
    {
      "cell_type": "code",
      "source": [
        "x[4:7]"
      ],
      "metadata": {
        "colab": {
          "base_uri": "https://localhost:8080/"
        },
        "id": "ZeZ2yvRCGS9w",
        "outputId": "973cfe13-6a92-487a-e211-2f2e5eadaa22"
      },
      "execution_count": 46,
      "outputs": [
        {
          "output_type": "execute_result",
          "data": {
            "text/plain": [
              "array([4, 5, 6])"
            ]
          },
          "metadata": {},
          "execution_count": 46
        }
      ]
    },
    {
      "cell_type": "code",
      "source": [
        "x[::2]"
      ],
      "metadata": {
        "colab": {
          "base_uri": "https://localhost:8080/"
        },
        "id": "HLmRloTiG3SP",
        "outputId": "1d4e451d-e16e-48b1-a88a-34a3c0c3691f"
      },
      "execution_count": 47,
      "outputs": [
        {
          "output_type": "execute_result",
          "data": {
            "text/plain": [
              "array([0, 2, 4, 6, 8])"
            ]
          },
          "metadata": {},
          "execution_count": 47
        }
      ]
    },
    {
      "cell_type": "code",
      "source": [
        "x[1::2]"
      ],
      "metadata": {
        "colab": {
          "base_uri": "https://localhost:8080/"
        },
        "id": "ZcadrO5WG8KL",
        "outputId": "e129706c-ed3f-4a90-dc6e-35585c9e7183"
      },
      "execution_count": 48,
      "outputs": [
        {
          "output_type": "execute_result",
          "data": {
            "text/plain": [
              "array([1, 3, 5, 7, 9])"
            ]
          },
          "metadata": {},
          "execution_count": 48
        }
      ]
    },
    {
      "cell_type": "code",
      "source": [
        "x[::-1]"
      ],
      "metadata": {
        "colab": {
          "base_uri": "https://localhost:8080/"
        },
        "id": "rwLgi7PeHFl9",
        "outputId": "bef8eb91-d76a-4788-8608-78c885b1c861"
      },
      "execution_count": 49,
      "outputs": [
        {
          "output_type": "execute_result",
          "data": {
            "text/plain": [
              "array([9, 8, 7, 6, 5, 4, 3, 2, 1, 0])"
            ]
          },
          "metadata": {},
          "execution_count": 49
        }
      ]
    },
    {
      "cell_type": "code",
      "source": [
        "x"
      ],
      "metadata": {
        "colab": {
          "base_uri": "https://localhost:8080/"
        },
        "id": "9EYCEFFfHUTR",
        "outputId": "98389eab-8306-44ff-9176-a9990ffa95f4"
      },
      "execution_count": 50,
      "outputs": [
        {
          "output_type": "execute_result",
          "data": {
            "text/plain": [
              "array([0, 1, 2, 3, 4, 5, 6, 7, 8, 9])"
            ]
          },
          "metadata": {},
          "execution_count": 50
        }
      ]
    },
    {
      "cell_type": "code",
      "source": [
        "x[5::-2]"
      ],
      "metadata": {
        "colab": {
          "base_uri": "https://localhost:8080/"
        },
        "id": "jqoLHpT7HHJC",
        "outputId": "505124b8-48c9-463f-a3d0-b15a30234a72"
      },
      "execution_count": 51,
      "outputs": [
        {
          "output_type": "execute_result",
          "data": {
            "text/plain": [
              "array([5, 3, 1])"
            ]
          },
          "metadata": {},
          "execution_count": 51
        }
      ]
    },
    {
      "cell_type": "code",
      "source": [
        "x2"
      ],
      "metadata": {
        "colab": {
          "base_uri": "https://localhost:8080/"
        },
        "id": "E0HY3aqcHeJv",
        "outputId": "a069f0f9-59f8-4ea5-a37d-4c4ce2ba2e9e"
      },
      "execution_count": 52,
      "outputs": [
        {
          "output_type": "execute_result",
          "data": {
            "text/plain": [
              "array([[12,  5,  2,  4],\n",
              "       [ 7,  6,  8,  8],\n",
              "       [ 1,  6,  7,  7]])"
            ]
          },
          "metadata": {},
          "execution_count": 52
        }
      ]
    },
    {
      "cell_type": "code",
      "source": [
        "x2[:2, :3]"
      ],
      "metadata": {
        "colab": {
          "base_uri": "https://localhost:8080/"
        },
        "id": "p4DeICuRHgT_",
        "outputId": "f1338229-dc29-4a27-96db-8705fa28b57e"
      },
      "execution_count": 53,
      "outputs": [
        {
          "output_type": "execute_result",
          "data": {
            "text/plain": [
              "array([[12,  5,  2],\n",
              "       [ 7,  6,  8]])"
            ]
          },
          "metadata": {},
          "execution_count": 53
        }
      ]
    },
    {
      "cell_type": "code",
      "source": [
        "x2[:3, ::2]"
      ],
      "metadata": {
        "colab": {
          "base_uri": "https://localhost:8080/"
        },
        "id": "Fp1ySi2BHmU3",
        "outputId": "a5c6e9de-b1e9-4301-d714-a595e8a8589b"
      },
      "execution_count": 54,
      "outputs": [
        {
          "output_type": "execute_result",
          "data": {
            "text/plain": [
              "array([[12,  2],\n",
              "       [ 7,  8],\n",
              "       [ 1,  7]])"
            ]
          },
          "metadata": {},
          "execution_count": 54
        }
      ]
    },
    {
      "cell_type": "code",
      "source": [
        "x2[::-1, ::-1]"
      ],
      "metadata": {
        "colab": {
          "base_uri": "https://localhost:8080/"
        },
        "id": "6JKdd3eiHzxP",
        "outputId": "25b4b85d-f875-4b9d-cd6d-5617d709ba1f"
      },
      "execution_count": 55,
      "outputs": [
        {
          "output_type": "execute_result",
          "data": {
            "text/plain": [
              "array([[ 7,  7,  6,  1],\n",
              "       [ 8,  8,  6,  7],\n",
              "       [ 4,  2,  5, 12]])"
            ]
          },
          "metadata": {},
          "execution_count": 55
        }
      ]
    },
    {
      "cell_type": "code",
      "source": [
        "x2[:, 0]"
      ],
      "metadata": {
        "colab": {
          "base_uri": "https://localhost:8080/"
        },
        "id": "eRPPGGTbIShV",
        "outputId": "d0bea5b1-0436-40f4-f1ad-43835fd947cc"
      },
      "execution_count": 56,
      "outputs": [
        {
          "output_type": "execute_result",
          "data": {
            "text/plain": [
              "array([12,  7,  1])"
            ]
          },
          "metadata": {},
          "execution_count": 56
        }
      ]
    },
    {
      "cell_type": "code",
      "source": [
        "print(x2[:, 0])"
      ],
      "metadata": {
        "colab": {
          "base_uri": "https://localhost:8080/"
        },
        "id": "fit4Ed68IMRJ",
        "outputId": "b31cf3da-b8bd-4ec3-c121-cc5c2a31f810"
      },
      "execution_count": 57,
      "outputs": [
        {
          "output_type": "stream",
          "name": "stdout",
          "text": [
            "[12  7  1]\n"
          ]
        }
      ]
    },
    {
      "cell_type": "code",
      "source": [
        "x2[0, :]"
      ],
      "metadata": {
        "colab": {
          "base_uri": "https://localhost:8080/"
        },
        "id": "lVEdakR4IU4b",
        "outputId": "f3fbe28a-639a-49b4-b476-9c74f2e9bf9b"
      },
      "execution_count": 58,
      "outputs": [
        {
          "output_type": "execute_result",
          "data": {
            "text/plain": [
              "array([12,  5,  2,  4])"
            ]
          },
          "metadata": {},
          "execution_count": 58
        }
      ]
    },
    {
      "cell_type": "code",
      "source": [
        "print(x2[0, :])"
      ],
      "metadata": {
        "colab": {
          "base_uri": "https://localhost:8080/"
        },
        "id": "gVv2UjX-IaGT",
        "outputId": "91b0145d-4536-464e-e001-af8fd515bcfe"
      },
      "execution_count": 59,
      "outputs": [
        {
          "output_type": "stream",
          "name": "stdout",
          "text": [
            "[12  5  2  4]\n"
          ]
        }
      ]
    },
    {
      "cell_type": "code",
      "source": [
        "print(x2[0])   #Equivalent to x2[0, :]. Only in case of row access!"
      ],
      "metadata": {
        "colab": {
          "base_uri": "https://localhost:8080/"
        },
        "id": "lc-A7MxlIh9w",
        "outputId": "a0f8510b-2823-4f8b-a886-bfca9247101a"
      },
      "execution_count": 60,
      "outputs": [
        {
          "output_type": "stream",
          "name": "stdout",
          "text": [
            "[12  5  2  4]\n"
          ]
        }
      ]
    },
    {
      "cell_type": "code",
      "source": [
        "print(x2)"
      ],
      "metadata": {
        "colab": {
          "base_uri": "https://localhost:8080/"
        },
        "id": "fGjSTFoGUzvF",
        "outputId": "a91f5fe1-8497-43c9-8e72-1fb34c693714"
      },
      "execution_count": 61,
      "outputs": [
        {
          "output_type": "stream",
          "name": "stdout",
          "text": [
            "[[12  5  2  4]\n",
            " [ 7  6  8  8]\n",
            " [ 1  6  7  7]]\n"
          ]
        }
      ]
    },
    {
      "cell_type": "code",
      "source": [
        "x2_sub = x2[:2, :2]\n",
        "print(x2_sub)"
      ],
      "metadata": {
        "colab": {
          "base_uri": "https://localhost:8080/"
        },
        "id": "ZlFyoB-MU4MK",
        "outputId": "3906968e-f52e-427e-f7ff-40e589d89c45"
      },
      "execution_count": 62,
      "outputs": [
        {
          "output_type": "stream",
          "name": "stdout",
          "text": [
            "[[12  5]\n",
            " [ 7  6]]\n"
          ]
        }
      ]
    },
    {
      "cell_type": "code",
      "source": [
        "x2_sub[0, 0] = 99\n",
        "print(x2_sub)"
      ],
      "metadata": {
        "colab": {
          "base_uri": "https://localhost:8080/"
        },
        "id": "KYyMfDySVD4f",
        "outputId": "fb1d2425-c714-429e-e686-9bdc930da4a5"
      },
      "execution_count": 63,
      "outputs": [
        {
          "output_type": "stream",
          "name": "stdout",
          "text": [
            "[[99  5]\n",
            " [ 7  6]]\n"
          ]
        }
      ]
    },
    {
      "cell_type": "code",
      "source": [
        "print(x2)"
      ],
      "metadata": {
        "colab": {
          "base_uri": "https://localhost:8080/"
        },
        "id": "g8F2KN6EVJfh",
        "outputId": "f4bede44-1492-4eff-ec51-73d7624e8a5a"
      },
      "execution_count": 64,
      "outputs": [
        {
          "output_type": "stream",
          "name": "stdout",
          "text": [
            "[[99  5  2  4]\n",
            " [ 7  6  8  8]\n",
            " [ 1  6  7  7]]\n"
          ]
        }
      ]
    },
    {
      "cell_type": "code",
      "source": [
        "x2_sub_copy = x2[:2, :2].copy()\n",
        "x2_sub_copy"
      ],
      "metadata": {
        "colab": {
          "base_uri": "https://localhost:8080/"
        },
        "id": "4Ux7cP52VWmI",
        "outputId": "912172c0-a844-42e3-d189-422691a5f627"
      },
      "execution_count": 65,
      "outputs": [
        {
          "output_type": "execute_result",
          "data": {
            "text/plain": [
              "array([[99,  5],\n",
              "       [ 7,  6]])"
            ]
          },
          "metadata": {},
          "execution_count": 65
        }
      ]
    },
    {
      "cell_type": "code",
      "source": [
        "x2_sub_copy[0, 0] = 42\n",
        "print(x2_sub_copy)"
      ],
      "metadata": {
        "colab": {
          "base_uri": "https://localhost:8080/"
        },
        "id": "EPZM_-QWVfJ6",
        "outputId": "6de0e2f3-67ac-4f1b-ab12-d7a5613a49ef"
      },
      "execution_count": 66,
      "outputs": [
        {
          "output_type": "stream",
          "name": "stdout",
          "text": [
            "[[42  5]\n",
            " [ 7  6]]\n"
          ]
        }
      ]
    },
    {
      "cell_type": "code",
      "source": [
        "print(x2)"
      ],
      "metadata": {
        "colab": {
          "base_uri": "https://localhost:8080/"
        },
        "id": "hWt4Q2XXVlLd",
        "outputId": "ef9b513d-2019-4c30-b080-3811d5314cd7"
      },
      "execution_count": 67,
      "outputs": [
        {
          "output_type": "stream",
          "name": "stdout",
          "text": [
            "[[99  5  2  4]\n",
            " [ 7  6  8  8]\n",
            " [ 1  6  7  7]]\n"
          ]
        }
      ]
    },
    {
      "cell_type": "markdown",
      "source": [
        "##Reshaping of arrays"
      ],
      "metadata": {
        "id": "5LWgFj3bUUkh"
      }
    },
    {
      "cell_type": "code",
      "source": [
        "grid = np.arange(1, 10).reshape((3, 3))\n",
        "print(grid)"
      ],
      "metadata": {
        "colab": {
          "base_uri": "https://localhost:8080/"
        },
        "id": "iLC4_WH9Vw_B",
        "outputId": "441fe9b4-1280-40b1-f9d1-1d92f2c3b017"
      },
      "execution_count": 68,
      "outputs": [
        {
          "output_type": "stream",
          "name": "stdout",
          "text": [
            "[[1 2 3]\n",
            " [4 5 6]\n",
            " [7 8 9]]\n"
          ]
        }
      ]
    },
    {
      "cell_type": "code",
      "source": [
        "x = np.array([1, 2, 3])\n",
        "x.reshape((1, 3))"
      ],
      "metadata": {
        "colab": {
          "base_uri": "https://localhost:8080/"
        },
        "id": "SkuFcOsdWdul",
        "outputId": "2f54da96-059b-4931-9914-314f207487bc"
      },
      "execution_count": 69,
      "outputs": [
        {
          "output_type": "execute_result",
          "data": {
            "text/plain": [
              "array([[1, 2, 3]])"
            ]
          },
          "metadata": {},
          "execution_count": 69
        }
      ]
    },
    {
      "cell_type": "code",
      "source": [
        "x[np.newaxis, :]"
      ],
      "metadata": {
        "colab": {
          "base_uri": "https://localhost:8080/"
        },
        "id": "Gd8vn1UpWnb2",
        "outputId": "884dff33-398b-4e1d-902f-4e849dd94a82"
      },
      "execution_count": 70,
      "outputs": [
        {
          "output_type": "execute_result",
          "data": {
            "text/plain": [
              "array([[1, 2, 3]])"
            ]
          },
          "metadata": {},
          "execution_count": 70
        }
      ]
    },
    {
      "cell_type": "code",
      "source": [
        "x.reshape((3, 1))"
      ],
      "metadata": {
        "colab": {
          "base_uri": "https://localhost:8080/"
        },
        "id": "BT-2BLbIWwHA",
        "outputId": "0b82c17c-9c2f-4357-ea42-0a4ac1d189d0"
      },
      "execution_count": 71,
      "outputs": [
        {
          "output_type": "execute_result",
          "data": {
            "text/plain": [
              "array([[1],\n",
              "       [2],\n",
              "       [3]])"
            ]
          },
          "metadata": {},
          "execution_count": 71
        }
      ]
    },
    {
      "cell_type": "code",
      "source": [
        "x[:, np.newaxis]"
      ],
      "metadata": {
        "colab": {
          "base_uri": "https://localhost:8080/"
        },
        "id": "jT-z0_MZW14X",
        "outputId": "60692b80-2d81-4bf3-fdff-2ad18455aedb"
      },
      "execution_count": 72,
      "outputs": [
        {
          "output_type": "execute_result",
          "data": {
            "text/plain": [
              "array([[1],\n",
              "       [2],\n",
              "       [3]])"
            ]
          },
          "metadata": {},
          "execution_count": 72
        }
      ]
    },
    {
      "cell_type": "markdown",
      "source": [
        "##Array concatenation and splitting"
      ],
      "metadata": {
        "id": "CGHfFcWiUZkB"
      }
    },
    {
      "cell_type": "code",
      "source": [
        "x = np.array([1, 2, 3])\n",
        "y = np.array([3, 2, 1])\n",
        "np.concatenate([x, y])"
      ],
      "metadata": {
        "colab": {
          "base_uri": "https://localhost:8080/"
        },
        "id": "mNQG_XhyXRUz",
        "outputId": "a451e83e-b37a-4987-eac1-4afe638c8f30"
      },
      "execution_count": 73,
      "outputs": [
        {
          "output_type": "execute_result",
          "data": {
            "text/plain": [
              "array([1, 2, 3, 3, 2, 1])"
            ]
          },
          "metadata": {},
          "execution_count": 73
        }
      ]
    },
    {
      "cell_type": "code",
      "source": [
        "z = np.array([99, 99, 99])\n",
        "print(np.concatenate([x, y, z]))"
      ],
      "metadata": {
        "colab": {
          "base_uri": "https://localhost:8080/"
        },
        "id": "qgiUxN6MXdiK",
        "outputId": "f82c1f2f-6956-480d-eeb5-9499dafa80bc"
      },
      "execution_count": 74,
      "outputs": [
        {
          "output_type": "stream",
          "name": "stdout",
          "text": [
            "[ 1  2  3  3  2  1 99 99 99]\n"
          ]
        }
      ]
    },
    {
      "cell_type": "code",
      "source": [
        "grid = np.array([[1, 2, 3],\n",
        "                 [4, 5, 6]])\n",
        "np.concatenate([grid, grid])   #Concatenate along the first axis"
      ],
      "metadata": {
        "colab": {
          "base_uri": "https://localhost:8080/"
        },
        "id": "uiI1gS2EXqL_",
        "outputId": "a29b6a99-a914-4f01-fb1f-928aa303d9b5"
      },
      "execution_count": 75,
      "outputs": [
        {
          "output_type": "execute_result",
          "data": {
            "text/plain": [
              "array([[1, 2, 3],\n",
              "       [4, 5, 6],\n",
              "       [1, 2, 3],\n",
              "       [4, 5, 6]])"
            ]
          },
          "metadata": {},
          "execution_count": 75
        }
      ]
    },
    {
      "cell_type": "code",
      "source": [
        "np.concatenate([grid, grid], axis=1)   #Concatenate along the second axis"
      ],
      "metadata": {
        "colab": {
          "base_uri": "https://localhost:8080/"
        },
        "id": "cHnle-tOX6HR",
        "outputId": "d3abc77e-23f6-49d1-c9eb-8fec6965bef0"
      },
      "execution_count": 76,
      "outputs": [
        {
          "output_type": "execute_result",
          "data": {
            "text/plain": [
              "array([[1, 2, 3, 1, 2, 3],\n",
              "       [4, 5, 6, 4, 5, 6]])"
            ]
          },
          "metadata": {},
          "execution_count": 76
        }
      ]
    },
    {
      "cell_type": "code",
      "source": [
        "x = np.array([1, 2, 3])\n",
        "grid = np.array([[9, 8, 7],\n",
        "                 [6, 5, 4]])\n",
        "np.vstack([x, grid])"
      ],
      "metadata": {
        "colab": {
          "base_uri": "https://localhost:8080/"
        },
        "id": "r0PRPtb4Yae5",
        "outputId": "4d85a03a-f28b-4b6a-da46-4be0ab75435e"
      },
      "execution_count": 77,
      "outputs": [
        {
          "output_type": "execute_result",
          "data": {
            "text/plain": [
              "array([[1, 2, 3],\n",
              "       [9, 8, 7],\n",
              "       [6, 5, 4]])"
            ]
          },
          "metadata": {},
          "execution_count": 77
        }
      ]
    },
    {
      "cell_type": "code",
      "source": [
        "y = np.array([[99],\n",
        "              [99]])\n",
        "np.hstack([grid, y])"
      ],
      "metadata": {
        "colab": {
          "base_uri": "https://localhost:8080/"
        },
        "id": "ST_jLRmfYyEV",
        "outputId": "1517eefa-6bd7-4e75-a1d2-99993e54ac74"
      },
      "execution_count": 78,
      "outputs": [
        {
          "output_type": "execute_result",
          "data": {
            "text/plain": [
              "array([[ 9,  8,  7, 99],\n",
              "       [ 6,  5,  4, 99]])"
            ]
          },
          "metadata": {},
          "execution_count": 78
        }
      ]
    },
    {
      "cell_type": "code",
      "source": [
        "x = [1, 2, 3, 99, 99, 3, 2, 1]\n",
        "x1, x2, x3 = np.split(x, [3, 5])   #Split before indexes 3 and 5\n",
        "print(x1, x2, x3)"
      ],
      "metadata": {
        "colab": {
          "base_uri": "https://localhost:8080/"
        },
        "id": "aIto2k8maou2",
        "outputId": "54d01c2c-1bd7-4ceb-d0b3-c59577a586ba"
      },
      "execution_count": 79,
      "outputs": [
        {
          "output_type": "stream",
          "name": "stdout",
          "text": [
            "[1 2 3] [99 99] [3 2 1]\n"
          ]
        }
      ]
    },
    {
      "cell_type": "code",
      "source": [
        "grid = np.arange(16).reshape((4, 4))\n",
        "grid"
      ],
      "metadata": {
        "colab": {
          "base_uri": "https://localhost:8080/"
        },
        "id": "bnDy2R9BbBLT",
        "outputId": "184fce04-ff28-404f-c5f5-b9335b75ed21"
      },
      "execution_count": 80,
      "outputs": [
        {
          "output_type": "execute_result",
          "data": {
            "text/plain": [
              "array([[ 0,  1,  2,  3],\n",
              "       [ 4,  5,  6,  7],\n",
              "       [ 8,  9, 10, 11],\n",
              "       [12, 13, 14, 15]])"
            ]
          },
          "metadata": {},
          "execution_count": 80
        }
      ]
    },
    {
      "cell_type": "code",
      "source": [
        "upper, lower = np.vsplit(grid, [2])\n",
        "print(upper)\n",
        "print(lower)"
      ],
      "metadata": {
        "colab": {
          "base_uri": "https://localhost:8080/"
        },
        "id": "05BgQ0ClbWQg",
        "outputId": "3b3bbdb3-1043-465e-91f4-10385cc0bb9e"
      },
      "execution_count": 81,
      "outputs": [
        {
          "output_type": "stream",
          "name": "stdout",
          "text": [
            "[[0 1 2 3]\n",
            " [4 5 6 7]]\n",
            "[[ 8  9 10 11]\n",
            " [12 13 14 15]]\n"
          ]
        }
      ]
    },
    {
      "cell_type": "code",
      "source": [
        "np.vsplit(grid, [1, 2])"
      ],
      "metadata": {
        "colab": {
          "base_uri": "https://localhost:8080/"
        },
        "id": "Gw39JM8abh-5",
        "outputId": "82d02723-da1c-437c-ae46-2b85624bc713"
      },
      "execution_count": 82,
      "outputs": [
        {
          "output_type": "execute_result",
          "data": {
            "text/plain": [
              "[array([[0, 1, 2, 3]]),\n",
              " array([[4, 5, 6, 7]]),\n",
              " array([[ 8,  9, 10, 11],\n",
              "        [12, 13, 14, 15]])]"
            ]
          },
          "metadata": {},
          "execution_count": 82
        }
      ]
    },
    {
      "cell_type": "code",
      "source": [
        "left, right = np.hsplit(grid, [2])\n",
        "print(left)\n",
        "print(right)"
      ],
      "metadata": {
        "colab": {
          "base_uri": "https://localhost:8080/"
        },
        "id": "FzEP1bupbp-2",
        "outputId": "f2a1ac4b-0aa5-4c58-921c-64215874936a"
      },
      "execution_count": 83,
      "outputs": [
        {
          "output_type": "stream",
          "name": "stdout",
          "text": [
            "[[ 0  1]\n",
            " [ 4  5]\n",
            " [ 8  9]\n",
            " [12 13]]\n",
            "[[ 2  3]\n",
            " [ 6  7]\n",
            " [10 11]\n",
            " [14 15]]\n"
          ]
        }
      ]
    },
    {
      "cell_type": "markdown",
      "source": [
        "#Computation on numpy arrays: universal functions"
      ],
      "metadata": {
        "id": "tRILVupAUjFR"
      }
    },
    {
      "cell_type": "markdown",
      "source": [
        "##The slowness of loops"
      ],
      "metadata": {
        "id": "vCT-GMzjUooR"
      }
    },
    {
      "cell_type": "code",
      "source": [
        "np.random.seed(0)\n",
        "\n",
        "def compute_reciprocals(values):\n",
        "  output = np.empty(len(values))\n",
        "  for i in range(len(values)):\n",
        "    output[i] = 1.0 / values[i]\n",
        "  return output\n",
        "\n",
        "values = np.random.randint(1, 10, size=5)\n",
        "compute_reciprocals(values)"
      ],
      "metadata": {
        "colab": {
          "base_uri": "https://localhost:8080/"
        },
        "id": "aqDZN8I8c8Ks",
        "outputId": "48c018dd-5be3-48ad-d550-69b82e8880d9"
      },
      "execution_count": 84,
      "outputs": [
        {
          "output_type": "execute_result",
          "data": {
            "text/plain": [
              "array([0.16666667, 1.        , 0.25      , 0.25      , 0.125     ])"
            ]
          },
          "metadata": {},
          "execution_count": 84
        }
      ]
    },
    {
      "cell_type": "code",
      "source": [
        "big_array = np.random.randint(1, 100, size=1000000)\n",
        "%timeit compute_reciprocals(big_array)"
      ],
      "metadata": {
        "colab": {
          "base_uri": "https://localhost:8080/"
        },
        "id": "imZIW8e8dhkQ",
        "outputId": "2a2d723f-b379-4c63-a878-8243328bdf98"
      },
      "execution_count": 85,
      "outputs": [
        {
          "output_type": "stream",
          "name": "stdout",
          "text": [
            "2.01 s ± 327 ms per loop (mean ± std. dev. of 7 runs, 1 loop each)\n"
          ]
        }
      ]
    },
    {
      "cell_type": "markdown",
      "source": [
        "##Introducing ufuncs"
      ],
      "metadata": {
        "id": "7dfTW00-UutZ"
      }
    },
    {
      "cell_type": "code",
      "source": [
        "print(compute_reciprocals(values))\n",
        "print(1.0 / values)"
      ],
      "metadata": {
        "colab": {
          "base_uri": "https://localhost:8080/"
        },
        "id": "uORdy6p9e9wu",
        "outputId": "3b57e915-357c-41fc-ce3b-3cd47d24d095"
      },
      "execution_count": 86,
      "outputs": [
        {
          "output_type": "stream",
          "name": "stdout",
          "text": [
            "[0.16666667 1.         0.25       0.25       0.125     ]\n",
            "[0.16666667 1.         0.25       0.25       0.125     ]\n"
          ]
        }
      ]
    },
    {
      "cell_type": "code",
      "source": [
        "%timeit 1.0 / big_array"
      ],
      "metadata": {
        "colab": {
          "base_uri": "https://localhost:8080/"
        },
        "id": "4Z-fYeMofKYi",
        "outputId": "14f06976-5b49-4cca-c70e-a5e3554c303a"
      },
      "execution_count": 87,
      "outputs": [
        {
          "output_type": "stream",
          "name": "stdout",
          "text": [
            "2.1 ms ± 70.8 µs per loop (mean ± std. dev. of 7 runs, 100 loops each)\n"
          ]
        }
      ]
    },
    {
      "cell_type": "code",
      "source": [
        "np.arange(5) / np.arange(1, 6)"
      ],
      "metadata": {
        "colab": {
          "base_uri": "https://localhost:8080/"
        },
        "id": "Y97jZJP_f2ef",
        "outputId": "5ab2786b-430e-4e7f-fbc1-e70f854d23a5"
      },
      "execution_count": 88,
      "outputs": [
        {
          "output_type": "execute_result",
          "data": {
            "text/plain": [
              "array([0.        , 0.5       , 0.66666667, 0.75      , 0.8       ])"
            ]
          },
          "metadata": {},
          "execution_count": 88
        }
      ]
    },
    {
      "cell_type": "code",
      "source": [
        "x = np.arange(9).reshape((3, 3))\n",
        "2 ** x"
      ],
      "metadata": {
        "colab": {
          "base_uri": "https://localhost:8080/"
        },
        "id": "jgjoxj7BgBMu",
        "outputId": "52a55063-d590-40df-c6c4-4872e297e0d4"
      },
      "execution_count": 89,
      "outputs": [
        {
          "output_type": "execute_result",
          "data": {
            "text/plain": [
              "array([[  1,   2,   4],\n",
              "       [  8,  16,  32],\n",
              "       [ 64, 128, 256]])"
            ]
          },
          "metadata": {},
          "execution_count": 89
        }
      ]
    },
    {
      "cell_type": "markdown",
      "source": [
        "##Exploring numpy's ufuncs"
      ],
      "metadata": {
        "id": "1CH33501U1nB"
      }
    },
    {
      "cell_type": "code",
      "source": [
        "x = np.arange(4)\n",
        "print('x     =', x)\n",
        "print('x + 5 =', x + 5)\n",
        "print('x - 5 =', x - 5)\n",
        "print('x * 2 =', x * 2)\n",
        "print('x / 2 =', x / 2)\n",
        "print('x // 2 =', x // 2)"
      ],
      "metadata": {
        "colab": {
          "base_uri": "https://localhost:8080/"
        },
        "id": "l93MRUPZgmI5",
        "outputId": "2946255b-4527-4fad-c31a-a26ccd0d0b47"
      },
      "execution_count": 90,
      "outputs": [
        {
          "output_type": "stream",
          "name": "stdout",
          "text": [
            "x     = [0 1 2 3]\n",
            "x + 5 = [5 6 7 8]\n",
            "x - 5 = [-5 -4 -3 -2]\n",
            "x * 2 = [0 2 4 6]\n",
            "x / 2 = [0.  0.5 1.  1.5]\n",
            "x // 2 = [0 0 1 1]\n"
          ]
        }
      ]
    },
    {
      "cell_type": "code",
      "source": [
        "print('-x     =', -x)\n",
        "print('x ** 2 =', x ** 2)\n",
        "print('x % 2  =', x % 2)"
      ],
      "metadata": {
        "colab": {
          "base_uri": "https://localhost:8080/"
        },
        "id": "ViNBWcWpPYUs",
        "outputId": "81dcfb81-42e1-4199-d183-8356fdad8767"
      },
      "execution_count": 91,
      "outputs": [
        {
          "output_type": "stream",
          "name": "stdout",
          "text": [
            "-x     = [ 0 -1 -2 -3]\n",
            "x ** 2 = [0 1 4 9]\n",
            "x % 2  = [0 1 0 1]\n"
          ]
        }
      ]
    },
    {
      "cell_type": "code",
      "source": [
        "-(0.5 * x + 1) ** 2"
      ],
      "metadata": {
        "colab": {
          "base_uri": "https://localhost:8080/"
        },
        "id": "Z1dfqhxVPvpc",
        "outputId": "f54b8ea7-6973-47de-d926-665d86384be0"
      },
      "execution_count": 92,
      "outputs": [
        {
          "output_type": "execute_result",
          "data": {
            "text/plain": [
              "array([-1.  , -2.25, -4.  , -6.25])"
            ]
          },
          "metadata": {},
          "execution_count": 92
        }
      ]
    },
    {
      "cell_type": "code",
      "source": [
        "np.add(x, 2)"
      ],
      "metadata": {
        "colab": {
          "base_uri": "https://localhost:8080/"
        },
        "id": "FQirWMMZP780",
        "outputId": "ab83d289-d213-43ea-fd52-046ed55355dd"
      },
      "execution_count": 93,
      "outputs": [
        {
          "output_type": "execute_result",
          "data": {
            "text/plain": [
              "array([2, 3, 4, 5])"
            ]
          },
          "metadata": {},
          "execution_count": 93
        }
      ]
    },
    {
      "cell_type": "code",
      "source": [
        "x = np.array([-2, -1, 0, 1, 2])\n",
        "abs(x)   #Python"
      ],
      "metadata": {
        "colab": {
          "base_uri": "https://localhost:8080/"
        },
        "id": "3N5e0DiTQOvs",
        "outputId": "d617c762-55e6-4c69-e73c-fec68a8d6083"
      },
      "execution_count": 94,
      "outputs": [
        {
          "output_type": "execute_result",
          "data": {
            "text/plain": [
              "array([2, 1, 0, 1, 2])"
            ]
          },
          "metadata": {},
          "execution_count": 94
        }
      ]
    },
    {
      "cell_type": "code",
      "source": [
        "np.absolute(x)   #Numpy"
      ],
      "metadata": {
        "colab": {
          "base_uri": "https://localhost:8080/"
        },
        "id": "ryV8vuLJQZgf",
        "outputId": "d8c40b6b-5faf-4f29-e457-3a60808b977a"
      },
      "execution_count": 95,
      "outputs": [
        {
          "output_type": "execute_result",
          "data": {
            "text/plain": [
              "array([2, 1, 0, 1, 2])"
            ]
          },
          "metadata": {},
          "execution_count": 95
        }
      ]
    },
    {
      "cell_type": "code",
      "source": [
        "np.abs(x)"
      ],
      "metadata": {
        "colab": {
          "base_uri": "https://localhost:8080/"
        },
        "id": "U7Wiw0-PQbus",
        "outputId": "4a141329-e44b-4c21-ec93-556216c14bf9"
      },
      "execution_count": 96,
      "outputs": [
        {
          "output_type": "execute_result",
          "data": {
            "text/plain": [
              "array([2, 1, 0, 1, 2])"
            ]
          },
          "metadata": {},
          "execution_count": 96
        }
      ]
    },
    {
      "cell_type": "code",
      "source": [
        "x = np.array([3 - 4j, 4 - 3j, 2 + 0j, 0 + 1j])\n",
        "np.abs(x)"
      ],
      "metadata": {
        "colab": {
          "base_uri": "https://localhost:8080/"
        },
        "id": "VH380F_wQkWY",
        "outputId": "8f1b97ed-f7ec-4245-a60b-6e255826d8da"
      },
      "execution_count": 97,
      "outputs": [
        {
          "output_type": "execute_result",
          "data": {
            "text/plain": [
              "array([5., 5., 2., 1.])"
            ]
          },
          "metadata": {},
          "execution_count": 97
        }
      ]
    },
    {
      "cell_type": "code",
      "source": [
        "theta = np.linspace(0, np.pi, 3)\n",
        "print('theta      =', theta)\n",
        "print('sin(theta) =', np.sin(theta))\n",
        "print('cos(theta) =', np.cos(theta))\n",
        "print('tan(theta) =', np.tan(theta))"
      ],
      "metadata": {
        "colab": {
          "base_uri": "https://localhost:8080/"
        },
        "id": "_qCG7YevQ0xo",
        "outputId": "deed6a14-ca5c-4083-dcef-9b7ff771a652"
      },
      "execution_count": 98,
      "outputs": [
        {
          "output_type": "stream",
          "name": "stdout",
          "text": [
            "theta      = [0.         1.57079633 3.14159265]\n",
            "sin(theta) = [0.0000000e+00 1.0000000e+00 1.2246468e-16]\n",
            "cos(theta) = [ 1.000000e+00  6.123234e-17 -1.000000e+00]\n",
            "tan(theta) = [ 0.00000000e+00  1.63312394e+16 -1.22464680e-16]\n"
          ]
        }
      ]
    },
    {
      "cell_type": "code",
      "source": [
        "x = [-1, 0, 1]\n",
        "print('x         =', x)\n",
        "print('arcsin(x) =', np.arcsin(x))\n",
        "print('arccos(x) =', np.arccos(x))\n",
        "print('arctan(x) =', np.arctan(x))"
      ],
      "metadata": {
        "colab": {
          "base_uri": "https://localhost:8080/"
        },
        "id": "JWbZIVjCRZ7R",
        "outputId": "33d1eef0-cd26-4f3d-fe02-84bb0d02696e"
      },
      "execution_count": 99,
      "outputs": [
        {
          "output_type": "stream",
          "name": "stdout",
          "text": [
            "x         = [-1, 0, 1]\n",
            "arcsin(x) = [-1.57079633  0.          1.57079633]\n",
            "arccos(x) = [3.14159265 1.57079633 0.        ]\n",
            "arctan(x) = [-0.78539816  0.          0.78539816]\n"
          ]
        }
      ]
    },
    {
      "cell_type": "code",
      "source": [
        "x = [1, 2, 3]\n",
        "print('x   =', x)\n",
        "print('e^x =', np.exp(x))\n",
        "print('2^x =', np.exp2(x))\n",
        "print('3^x =', np.power(3, x))"
      ],
      "metadata": {
        "colab": {
          "base_uri": "https://localhost:8080/"
        },
        "id": "m9omzVaXRwR0",
        "outputId": "50b293c3-8da2-4dc3-bcb4-15280fa930a1"
      },
      "execution_count": 100,
      "outputs": [
        {
          "output_type": "stream",
          "name": "stdout",
          "text": [
            "x   = [1, 2, 3]\n",
            "e^x = [ 2.71828183  7.3890561  20.08553692]\n",
            "2^x = [2. 4. 8.]\n",
            "3^x = [ 3  9 27]\n"
          ]
        }
      ]
    },
    {
      "cell_type": "code",
      "source": [
        "x = [1, 2, 4, 10]\n",
        "print('x        =', x)\n",
        "print('ln(x)    =', np.log(x))\n",
        "print('log2(x)  =', np.log2(x))\n",
        "print('log10(x) =', np.log10(x))"
      ],
      "metadata": {
        "colab": {
          "base_uri": "https://localhost:8080/"
        },
        "id": "YBixpA-hcIXI",
        "outputId": "636462b4-fc2f-4088-cdac-63539179293c"
      },
      "execution_count": 101,
      "outputs": [
        {
          "output_type": "stream",
          "name": "stdout",
          "text": [
            "x        = [1, 2, 4, 10]\n",
            "ln(x)    = [0.         0.69314718 1.38629436 2.30258509]\n",
            "log2(x)  = [0.         1.         2.         3.32192809]\n",
            "log10(x) = [0.         0.30103    0.60205999 1.        ]\n"
          ]
        }
      ]
    },
    {
      "cell_type": "code",
      "source": [
        "x = [0, 0.001, 0.01, 0.1]\n",
        "print('exp(x) - 1 =', np.expm1(x))\n",
        "print('log(1 + x) =', np.log1p(x))"
      ],
      "metadata": {
        "colab": {
          "base_uri": "https://localhost:8080/"
        },
        "id": "wId2qInOcigp",
        "outputId": "85c933e4-f254-4d35-f239-a2ae61d197bd"
      },
      "execution_count": 102,
      "outputs": [
        {
          "output_type": "stream",
          "name": "stdout",
          "text": [
            "exp(x) - 1 = [0.         0.0010005  0.01005017 0.10517092]\n",
            "log(1 + x) = [0.         0.0009995  0.00995033 0.09531018]\n"
          ]
        }
      ]
    },
    {
      "cell_type": "code",
      "source": [
        "from scipy import special"
      ],
      "metadata": {
        "id": "PeZMYuBtdTKA"
      },
      "execution_count": 103,
      "outputs": []
    },
    {
      "cell_type": "code",
      "source": [
        "x = [1, 5, 10]\n",
        "print('gamma(x)     =', special.gamma(x))\n",
        "print('ln|gamma(x)| =', special.gammaln(x))\n",
        "print('beta(x, 2)   =', special.beta(x, 2))"
      ],
      "metadata": {
        "colab": {
          "base_uri": "https://localhost:8080/"
        },
        "id": "Ds7Qx8cJdV0y",
        "outputId": "6551a76f-7599-4707-82e4-b18ed1529864"
      },
      "execution_count": 104,
      "outputs": [
        {
          "output_type": "stream",
          "name": "stdout",
          "text": [
            "gamma(x)     = [1.0000e+00 2.4000e+01 3.6288e+05]\n",
            "ln|gamma(x)| = [ 0.          3.17805383 12.80182748]\n",
            "beta(x, 2)   = [0.5        0.03333333 0.00909091]\n"
          ]
        }
      ]
    },
    {
      "cell_type": "code",
      "source": [
        "x = np.array([0, 0.3, 0.7, 1.0])\n",
        "print('erf(x)    =', special.erf(x))\n",
        "print('erfc(x)   =', special.erfc(x))     #Complement of error function\n",
        "print('erfinv(x) =', special.erfinv(x))   #Inverse of error function"
      ],
      "metadata": {
        "colab": {
          "base_uri": "https://localhost:8080/"
        },
        "id": "3B6T4v8Ld1iL",
        "outputId": "26fb3b5c-ffa7-4e98-c2aa-0f5161e2a764"
      },
      "execution_count": 105,
      "outputs": [
        {
          "output_type": "stream",
          "name": "stdout",
          "text": [
            "erf(x)    = [0.         0.32862676 0.67780119 0.84270079]\n",
            "erfc(x)   = [1.         0.67137324 0.32219881 0.15729921]\n",
            "erfinv(x) = [0.         0.27246271 0.73286908        inf]\n"
          ]
        }
      ]
    },
    {
      "cell_type": "markdown",
      "source": [
        "##Advanced ufuncs features"
      ],
      "metadata": {
        "id": "gxVDtNTSVCax"
      }
    },
    {
      "cell_type": "code",
      "source": [
        "x = np.arange(5)\n",
        "y = np.empty(5)\n",
        "np.multiply(x, 10, out=y)\n",
        "print(y)"
      ],
      "metadata": {
        "colab": {
          "base_uri": "https://localhost:8080/"
        },
        "id": "rxj5fx8Te139",
        "outputId": "127be0b2-a003-45e0-8045-34cf5e46072a"
      },
      "execution_count": 106,
      "outputs": [
        {
          "output_type": "stream",
          "name": "stdout",
          "text": [
            "[ 0. 10. 20. 30. 40.]\n"
          ]
        }
      ]
    },
    {
      "cell_type": "code",
      "source": [
        "y = np.zeros(10)\n",
        "np.power(2, x, out=y[::2])\n",
        "print(y)"
      ],
      "metadata": {
        "colab": {
          "base_uri": "https://localhost:8080/"
        },
        "id": "YwdinCrNfNCq",
        "outputId": "0fea12a8-5dbb-4444-9b16-485c794eed81"
      },
      "execution_count": 107,
      "outputs": [
        {
          "output_type": "stream",
          "name": "stdout",
          "text": [
            "[ 1.  0.  2.  0.  4.  0.  8.  0. 16.  0.]\n"
          ]
        }
      ]
    },
    {
      "cell_type": "code",
      "source": [
        "x = np.arange(1, 6)\n",
        "np.add.reduce(x)"
      ],
      "metadata": {
        "colab": {
          "base_uri": "https://localhost:8080/"
        },
        "id": "6N7JVUwFghcG",
        "outputId": "457aa199-c38f-4b98-99f1-ae00a6af4de2"
      },
      "execution_count": 108,
      "outputs": [
        {
          "output_type": "execute_result",
          "data": {
            "text/plain": [
              "np.int64(15)"
            ]
          },
          "metadata": {},
          "execution_count": 108
        }
      ]
    },
    {
      "cell_type": "code",
      "source": [
        "np.multiply.reduce(x)"
      ],
      "metadata": {
        "colab": {
          "base_uri": "https://localhost:8080/"
        },
        "id": "bPxPIxCTgqB4",
        "outputId": "da3bff1a-62a4-4a77-d693-8a2dccb4ea10"
      },
      "execution_count": 109,
      "outputs": [
        {
          "output_type": "execute_result",
          "data": {
            "text/plain": [
              "np.int64(120)"
            ]
          },
          "metadata": {},
          "execution_count": 109
        }
      ]
    },
    {
      "cell_type": "code",
      "source": [
        "np.add.accumulate(x)"
      ],
      "metadata": {
        "colab": {
          "base_uri": "https://localhost:8080/"
        },
        "id": "PTuG_-gugx63",
        "outputId": "0e5f3a3c-90d4-4981-a79a-6dead7f7c02e"
      },
      "execution_count": 110,
      "outputs": [
        {
          "output_type": "execute_result",
          "data": {
            "text/plain": [
              "array([ 1,  3,  6, 10, 15])"
            ]
          },
          "metadata": {},
          "execution_count": 110
        }
      ]
    },
    {
      "cell_type": "code",
      "source": [
        "np.multiply.accumulate(x)"
      ],
      "metadata": {
        "colab": {
          "base_uri": "https://localhost:8080/"
        },
        "id": "px-DqQnMg3Ah",
        "outputId": "02be046a-68b7-41e2-dbf9-4d2d93a53539"
      },
      "execution_count": 111,
      "outputs": [
        {
          "output_type": "execute_result",
          "data": {
            "text/plain": [
              "array([  1,   2,   6,  24, 120])"
            ]
          },
          "metadata": {},
          "execution_count": 111
        }
      ]
    },
    {
      "cell_type": "code",
      "source": [
        "x = np.arange(1, 6)\n",
        "np.multiply.outer(x, x)   #Product of each couple of elements in x"
      ],
      "metadata": {
        "colab": {
          "base_uri": "https://localhost:8080/"
        },
        "id": "0Z6UhfyxhOcL",
        "outputId": "af45eced-0df0-4172-9be4-e82bef002913"
      },
      "execution_count": 112,
      "outputs": [
        {
          "output_type": "execute_result",
          "data": {
            "text/plain": [
              "array([[ 1,  2,  3,  4,  5],\n",
              "       [ 2,  4,  6,  8, 10],\n",
              "       [ 3,  6,  9, 12, 15],\n",
              "       [ 4,  8, 12, 16, 20],\n",
              "       [ 5, 10, 15, 20, 25]])"
            ]
          },
          "metadata": {},
          "execution_count": 112
        }
      ]
    },
    {
      "cell_type": "markdown",
      "source": [
        "#Aggregations: min, max and everything in between"
      ],
      "metadata": {
        "id": "-Uyme42UVKSh"
      }
    },
    {
      "cell_type": "markdown",
      "source": [
        "##Summing the values in an array"
      ],
      "metadata": {
        "id": "FnvTHifiVSMZ"
      }
    },
    {
      "cell_type": "code",
      "source": [
        "L = np.random.random(100)\n",
        "sum(L)   #Python"
      ],
      "metadata": {
        "colab": {
          "base_uri": "https://localhost:8080/"
        },
        "id": "imdvLxOUh4W_",
        "outputId": "972c1597-75a7-4271-896d-026b917ba326"
      },
      "execution_count": 113,
      "outputs": [
        {
          "output_type": "execute_result",
          "data": {
            "text/plain": [
              "np.float64(50.461758453195614)"
            ]
          },
          "metadata": {},
          "execution_count": 113
        }
      ]
    },
    {
      "cell_type": "code",
      "source": [
        "np.sum(L)   #Numpy"
      ],
      "metadata": {
        "colab": {
          "base_uri": "https://localhost:8080/"
        },
        "id": "qUnxwjhEh_5R",
        "outputId": "c36f858f-77aa-4f61-fda0-e1da09073b2d"
      },
      "execution_count": 114,
      "outputs": [
        {
          "output_type": "execute_result",
          "data": {
            "text/plain": [
              "np.float64(50.46175845319564)"
            ]
          },
          "metadata": {},
          "execution_count": 114
        }
      ]
    },
    {
      "cell_type": "code",
      "source": [
        "big_array = np.random.rand(1000000)\n",
        "%timeit sum(big_array)\n",
        "%timeit np.sum(big_array)"
      ],
      "metadata": {
        "colab": {
          "base_uri": "https://localhost:8080/"
        },
        "id": "NOkDruhoiLg5",
        "outputId": "9839c094-9315-4004-e313-d17f0755c86f"
      },
      "execution_count": 115,
      "outputs": [
        {
          "output_type": "stream",
          "name": "stdout",
          "text": [
            "207 ms ± 7.23 ms per loop (mean ± std. dev. of 7 runs, 1 loop each)\n",
            "394 µs ± 51.6 µs per loop (mean ± std. dev. of 7 runs, 1000 loops each)\n"
          ]
        }
      ]
    },
    {
      "cell_type": "markdown",
      "source": [
        "##Minimum and maximum"
      ],
      "metadata": {
        "id": "FL-luyBrVX2Z"
      }
    },
    {
      "cell_type": "code",
      "source": [
        "min(big_array), max(big_array)   #Python"
      ],
      "metadata": {
        "colab": {
          "base_uri": "https://localhost:8080/"
        },
        "id": "c2voh7i4im52",
        "outputId": "6869f293-9fa8-40d9-890a-8ee446e73ca5"
      },
      "execution_count": 116,
      "outputs": [
        {
          "output_type": "execute_result",
          "data": {
            "text/plain": [
              "(np.float64(7.071203171893359e-07), np.float64(0.9999997207656334))"
            ]
          },
          "metadata": {},
          "execution_count": 116
        }
      ]
    },
    {
      "cell_type": "code",
      "source": [
        "np.min(big_array), np.max(big_array)   #Numpy"
      ],
      "metadata": {
        "colab": {
          "base_uri": "https://localhost:8080/"
        },
        "id": "PTdO6V-ciuTy",
        "outputId": "3f182e76-8144-4915-f69f-ced58cb0dbf4"
      },
      "execution_count": 117,
      "outputs": [
        {
          "output_type": "execute_result",
          "data": {
            "text/plain": [
              "(np.float64(7.071203171893359e-07), np.float64(0.9999997207656334))"
            ]
          },
          "metadata": {},
          "execution_count": 117
        }
      ]
    },
    {
      "cell_type": "code",
      "source": [
        "%timeit min(big_array)\n",
        "%timeit np.min(big_array)"
      ],
      "metadata": {
        "colab": {
          "base_uri": "https://localhost:8080/"
        },
        "id": "Nr1jYqQqjE46",
        "outputId": "3d923e69-2e4f-44c7-858d-dcb634e55065"
      },
      "execution_count": 118,
      "outputs": [
        {
          "output_type": "stream",
          "name": "stdout",
          "text": [
            "65.8 ms ± 1.21 ms per loop (mean ± std. dev. of 7 runs, 10 loops each)\n",
            "468 µs ± 79.6 µs per loop (mean ± std. dev. of 7 runs, 1000 loops each)\n"
          ]
        }
      ]
    },
    {
      "cell_type": "code",
      "source": [
        "print(big_array.min(), big_array.max(), big_array.sum())"
      ],
      "metadata": {
        "colab": {
          "base_uri": "https://localhost:8080/"
        },
        "id": "FEzXLVznjPxN",
        "outputId": "3ffe74f0-d20a-41ff-aaf8-76c7c7288baa"
      },
      "execution_count": 119,
      "outputs": [
        {
          "output_type": "stream",
          "name": "stdout",
          "text": [
            "7.071203171893359e-07 0.9999997207656334 500216.8034810001\n"
          ]
        }
      ]
    },
    {
      "cell_type": "code",
      "source": [
        "M = np.random.random((3, 4))\n",
        "print(M)"
      ],
      "metadata": {
        "colab": {
          "base_uri": "https://localhost:8080/"
        },
        "id": "6kQO78GXjk9j",
        "outputId": "f1532da9-fe6e-4d41-b8a3-dae0c16e3c17"
      },
      "execution_count": 120,
      "outputs": [
        {
          "output_type": "stream",
          "name": "stdout",
          "text": [
            "[[0.79832448 0.44923861 0.95274259 0.03193135]\n",
            " [0.18441813 0.71417358 0.76371195 0.11957117]\n",
            " [0.37578601 0.11936151 0.37497044 0.22944653]]\n"
          ]
        }
      ]
    },
    {
      "cell_type": "code",
      "source": [
        "M.sum()"
      ],
      "metadata": {
        "colab": {
          "base_uri": "https://localhost:8080/"
        },
        "id": "uBsdSilQjuXg",
        "outputId": "a599bd34-02a9-45fa-98ee-a40b6107fa55"
      },
      "execution_count": 121,
      "outputs": [
        {
          "output_type": "execute_result",
          "data": {
            "text/plain": [
              "np.float64(5.1136763453287335)"
            ]
          },
          "metadata": {},
          "execution_count": 121
        }
      ]
    },
    {
      "cell_type": "code",
      "source": [
        "M.min(axis=0)"
      ],
      "metadata": {
        "colab": {
          "base_uri": "https://localhost:8080/"
        },
        "id": "o_UoHyCsj4Wu",
        "outputId": "8a381a15-61df-474e-ef8e-f56867eaf08a"
      },
      "execution_count": 122,
      "outputs": [
        {
          "output_type": "execute_result",
          "data": {
            "text/plain": [
              "array([0.18441813, 0.11936151, 0.37497044, 0.03193135])"
            ]
          },
          "metadata": {},
          "execution_count": 122
        }
      ]
    },
    {
      "cell_type": "code",
      "source": [
        "M.max(axis=1)"
      ],
      "metadata": {
        "colab": {
          "base_uri": "https://localhost:8080/"
        },
        "id": "qENgYBvBkAGg",
        "outputId": "208af489-6fca-4c58-b012-2c27d2e1c24d"
      },
      "execution_count": 123,
      "outputs": [
        {
          "output_type": "execute_result",
          "data": {
            "text/plain": [
              "array([0.95274259, 0.76371195, 0.37578601])"
            ]
          },
          "metadata": {},
          "execution_count": 123
        }
      ]
    },
    {
      "cell_type": "markdown",
      "source": [
        "##Example: what is the average heights of US presidents?"
      ],
      "metadata": {
        "id": "aV4PN8itVe4x"
      }
    },
    {
      "cell_type": "code",
      "source": [
        "!head -4 Datasets/president_heights.csv"
      ],
      "metadata": {
        "colab": {
          "base_uri": "https://localhost:8080/"
        },
        "id": "Bqf-jqpVmA5D",
        "outputId": "fb7078c1-fc19-48b0-b34e-58f5ac7463e4"
      },
      "execution_count": 124,
      "outputs": [
        {
          "output_type": "stream",
          "name": "stdout",
          "text": [
            "order,name,height(cm)\n",
            "1,George Washington,189\n",
            "2,John Adams,170\n",
            "3,Thomas Jefferson,189\n"
          ]
        }
      ]
    },
    {
      "cell_type": "code",
      "source": [
        "import pandas as pd"
      ],
      "metadata": {
        "id": "UqFrpyXsmM8e"
      },
      "execution_count": 125,
      "outputs": []
    },
    {
      "cell_type": "code",
      "source": [
        "data = pd.read_csv('Datasets/president_heights.csv')\n",
        "heights = np.array(data['height(cm)'])\n",
        "print(heights)"
      ],
      "metadata": {
        "colab": {
          "base_uri": "https://localhost:8080/"
        },
        "id": "fs9hXJoUmOwW",
        "outputId": "7a9d477e-38de-4bcb-f993-3c194fbb2787"
      },
      "execution_count": 126,
      "outputs": [
        {
          "output_type": "stream",
          "name": "stdout",
          "text": [
            "[189 170 189 163 183 171 185 168 173 183 173 173 175 178 183 193 178 173\n",
            " 174 183 183 168 170 178 182 180 183 178 182 188 175 179 183 193 182 183\n",
            " 177 185 188 188 182 185 191 182]\n"
          ]
        }
      ]
    },
    {
      "cell_type": "code",
      "source": [
        "print('Mean height:       ', heights.mean())\n",
        "print('Standard deviation:', heights.std())\n",
        "print('Minimum height:    ', heights.min())\n",
        "print('Maximum height:    ', heights.max())"
      ],
      "metadata": {
        "id": "nZFyG9Cuq2Rh",
        "outputId": "e6e4ab73-b52f-41cb-d8cc-aa2404830530",
        "colab": {
          "base_uri": "https://localhost:8080/"
        }
      },
      "execution_count": 127,
      "outputs": [
        {
          "output_type": "stream",
          "name": "stdout",
          "text": [
            "Mean height:        180.04545454545453\n",
            "Standard deviation: 6.983599441335736\n",
            "Minimum height:     163\n",
            "Maximum height:     193\n"
          ]
        }
      ]
    },
    {
      "cell_type": "code",
      "source": [
        "print('25th percentile:', np.percentile(heights, 25))\n",
        "print('Median:         ', np.median(heights))\n",
        "print('75th percentile:', np.percentile(heights, 75))"
      ],
      "metadata": {
        "id": "2roMCsGOrTfV",
        "outputId": "ed2e20e3-f1cc-4484-d317-6971cea78fcd",
        "colab": {
          "base_uri": "https://localhost:8080/"
        }
      },
      "execution_count": 128,
      "outputs": [
        {
          "output_type": "stream",
          "name": "stdout",
          "text": [
            "25th percentile: 174.75\n",
            "Median:          182.0\n",
            "75th percentile: 183.5\n"
          ]
        }
      ]
    },
    {
      "cell_type": "code",
      "source": [
        "%matplotlib inline\n",
        "import matplotlib.pyplot as plt\n",
        "import seaborn; seaborn.set()"
      ],
      "metadata": {
        "id": "aP17PCkGryRq"
      },
      "execution_count": 129,
      "outputs": []
    },
    {
      "cell_type": "code",
      "source": [
        "plt.hist(heights)\n",
        "plt.title('Height distribution of US presidents')\n",
        "plt.xlabel('Height (cm)')\n",
        "plt.ylabel('Number')\n",
        "plt.show()"
      ],
      "metadata": {
        "id": "QWlxhffUr91v",
        "outputId": "26620418-35c7-4f53-e350-1a2bc42f1c89",
        "colab": {
          "base_uri": "https://localhost:8080/",
          "height": 480
        }
      },
      "execution_count": 130,
      "outputs": [
        {
          "output_type": "display_data",
          "data": {
            "text/plain": [
              "<Figure size 640x480 with 1 Axes>"
            ],
            "image/png": "[encoded data removed]"
          },
          "metadata": {}
        }
      ]
    },
    {
      "cell_type": "markdown",
      "source": [
        "#Computation on arrays: broadcasting"
      ],
      "metadata": {
        "id": "CEpG_ELdtQD-"
      }
    },
    {
      "cell_type": "markdown",
      "source": [
        "##Introducing broadcasting"
      ],
      "metadata": {
        "id": "EzU6XRM2VrDJ"
      }
    },
    {
      "cell_type": "code",
      "source": [
        "a = np.array([0, 1, 2])\n",
        "b = np.array([5, 5, 5])\n",
        "a + b"
      ],
      "metadata": {
        "id": "Hyp5L_uItSRC",
        "outputId": "5f758b8e-8fd8-4abd-ffaa-ac67ccebe0f6",
        "colab": {
          "base_uri": "https://localhost:8080/"
        }
      },
      "execution_count": 131,
      "outputs": [
        {
          "output_type": "execute_result",
          "data": {
            "text/plain": [
              "array([5, 6, 7])"
            ]
          },
          "metadata": {},
          "execution_count": 131
        }
      ]
    },
    {
      "cell_type": "code",
      "source": [
        "a + 5"
      ],
      "metadata": {
        "id": "11Wx0VEhtgHv",
        "outputId": "75d2e14a-6a1e-483e-f73f-7eba7b9ee4ef",
        "colab": {
          "base_uri": "https://localhost:8080/"
        }
      },
      "execution_count": 132,
      "outputs": [
        {
          "output_type": "execute_result",
          "data": {
            "text/plain": [
              "array([5, 6, 7])"
            ]
          },
          "metadata": {},
          "execution_count": 132
        }
      ]
    },
    {
      "cell_type": "code",
      "source": [
        "M = np.ones((3, 3))\n",
        "M"
      ],
      "metadata": {
        "id": "T9N4Lokbtsjn",
        "outputId": "5ea4e643-ede8-4a62-85ad-454a182d3dd6",
        "colab": {
          "base_uri": "https://localhost:8080/"
        }
      },
      "execution_count": 133,
      "outputs": [
        {
          "output_type": "execute_result",
          "data": {
            "text/plain": [
              "array([[1., 1., 1.],\n",
              "       [1., 1., 1.],\n",
              "       [1., 1., 1.]])"
            ]
          },
          "metadata": {},
          "execution_count": 133
        }
      ]
    },
    {
      "cell_type": "code",
      "source": [
        "M + a"
      ],
      "metadata": {
        "id": "VshQV07dtwAl",
        "outputId": "60da0533-22d5-470e-c0e9-c17b53c6af41",
        "colab": {
          "base_uri": "https://localhost:8080/"
        }
      },
      "execution_count": 134,
      "outputs": [
        {
          "output_type": "execute_result",
          "data": {
            "text/plain": [
              "array([[1., 2., 3.],\n",
              "       [1., 2., 3.],\n",
              "       [1., 2., 3.]])"
            ]
          },
          "metadata": {},
          "execution_count": 134
        }
      ]
    },
    {
      "cell_type": "code",
      "source": [
        "a = np.arange(3)\n",
        "b = np.arange(3)[:, np.newaxis]\n",
        "print(a)\n",
        "print(b)"
      ],
      "metadata": {
        "id": "IosSSwuEdmV1",
        "outputId": "10bb7fea-d91b-40c0-b4db-c0f338d3026a",
        "colab": {
          "base_uri": "https://localhost:8080/"
        }
      },
      "execution_count": 135,
      "outputs": [
        {
          "output_type": "stream",
          "name": "stdout",
          "text": [
            "[0 1 2]\n",
            "[[0]\n",
            " [1]\n",
            " [2]]\n"
          ]
        }
      ]
    },
    {
      "cell_type": "code",
      "source": [
        "a + b"
      ],
      "metadata": {
        "id": "OaHFPhyNdx21",
        "outputId": "a68471fd-1364-448d-b36d-523e6dce886a",
        "colab": {
          "base_uri": "https://localhost:8080/"
        }
      },
      "execution_count": 136,
      "outputs": [
        {
          "output_type": "execute_result",
          "data": {
            "text/plain": [
              "array([[0, 1, 2],\n",
              "       [1, 2, 3],\n",
              "       [2, 3, 4]])"
            ]
          },
          "metadata": {},
          "execution_count": 136
        }
      ]
    },
    {
      "cell_type": "code",
      "source": [
        "M = np.ones((3, 2))\n",
        "a = np.arange(3)\n",
        "#M + a   #Error: broadcasting incompatibility"
      ],
      "metadata": {
        "id": "CpvSBcf3gLze"
      },
      "execution_count": 137,
      "outputs": []
    },
    {
      "cell_type": "code",
      "source": [
        "a[:, np.newaxis].shape"
      ],
      "metadata": {
        "id": "bx5uQPA0gs7H",
        "outputId": "205d63f0-bd80-46ae-800a-65ae1bed9053",
        "colab": {
          "base_uri": "https://localhost:8080/"
        }
      },
      "execution_count": 138,
      "outputs": [
        {
          "output_type": "execute_result",
          "data": {
            "text/plain": [
              "(3, 1)"
            ]
          },
          "metadata": {},
          "execution_count": 138
        }
      ]
    },
    {
      "cell_type": "code",
      "source": [
        "M + a[:, np.newaxis]   ###Da qui"
      ],
      "metadata": {
        "id": "NhWqSgFQgxnP",
        "outputId": "98f3f18a-a20f-443a-a737-6b0eae0d6023",
        "colab": {
          "base_uri": "https://localhost:8080/"
        }
      },
      "execution_count": 139,
      "outputs": [
        {
          "output_type": "execute_result",
          "data": {
            "text/plain": [
              "array([[1., 1.],\n",
              "       [2., 2.],\n",
              "       [3., 3.]])"
            ]
          },
          "metadata": {},
          "execution_count": 139
        }
      ]
    },
    {
      "cell_type": "code",
      "source": [
        "np.logaddexp(M, a[:, np.newaxis])"
      ],
      "metadata": {
        "id": "7nqXHdzjhAxn",
        "outputId": "6134c44d-ec1b-4abe-9e69-b812f502f35e",
        "colab": {
          "base_uri": "https://localhost:8080/"
        }
      },
      "execution_count": 140,
      "outputs": [
        {
          "output_type": "execute_result",
          "data": {
            "text/plain": [
              "array([[1.31326169, 1.31326169],\n",
              "       [1.69314718, 1.69314718],\n",
              "       [2.31326169, 2.31326169]])"
            ]
          },
          "metadata": {},
          "execution_count": 140
        }
      ]
    },
    {
      "cell_type": "code",
      "source": [
        "X = np.random.random((10, 3))\n",
        "Xmean = X.mean(0)\n",
        "Xmean"
      ],
      "metadata": {
        "id": "m-r5r_VCL6JA",
        "outputId": "6dc05057-0a10-4160-f443-4718f90444cf",
        "colab": {
          "base_uri": "https://localhost:8080/"
        }
      },
      "execution_count": 141,
      "outputs": [
        {
          "output_type": "execute_result",
          "data": {
            "text/plain": [
              "array([0.49831076, 0.50193438, 0.46752888])"
            ]
          },
          "metadata": {},
          "execution_count": 141
        }
      ]
    },
    {
      "cell_type": "code",
      "source": [
        "X_centered = X - Xmean   #Broadcasting\n",
        "X_centered.mean(0)"
      ],
      "metadata": {
        "id": "jzAzWwpNMS7w",
        "outputId": "34f00c7a-d4fb-4273-dacb-e30ba2b67243",
        "colab": {
          "base_uri": "https://localhost:8080/"
        }
      },
      "execution_count": 142,
      "outputs": [
        {
          "output_type": "execute_result",
          "data": {
            "text/plain": [
              "array([-4.44089210e-17,  3.33066907e-17, -9.43689571e-17])"
            ]
          },
          "metadata": {},
          "execution_count": 142
        }
      ]
    },
    {
      "cell_type": "code",
      "source": [
        "x = np.linspace(0, 5, 50)\n",
        "y = np.linspace(0, 5, 50)[:, np.newaxis]\n",
        "z = np.sin(x) ** 10 + np.cos(10 + y * x) * np.cos(x)\n",
        "#With broadcasting each couple (x, y) is considered"
      ],
      "metadata": {
        "id": "tM23qM8yM8oI"
      },
      "execution_count": 143,
      "outputs": []
    },
    {
      "cell_type": "code",
      "source": [
        "plt.imshow(z, origin='lower', extent=[0, 5, 0, 5], cmap='viridis')\n",
        "plt.colorbar()\n",
        "plt.show()"
      ],
      "metadata": {
        "id": "2gKqbulXNj_H",
        "outputId": "15c36c49-e9cb-45ca-94d3-c512fa5d0ccf",
        "colab": {
          "base_uri": "https://localhost:8080/",
          "height": 440
        }
      },
      "execution_count": 144,
      "outputs": [
        {
          "output_type": "display_data",
          "data": {
            "text/plain": [
              "<Figure size 640x480 with 2 Axes>"
            ],
            "image/png": "[encoded data removed]"
          },
          "metadata": {}
        }
      ]
    },
    {
      "cell_type": "markdown",
      "source": [
        "#Comparisons, masks and boolean logic"
      ],
      "metadata": {
        "id": "3OEV_pfCOHZX"
      }
    },
    {
      "cell_type": "markdown",
      "source": [
        "##Example: counting rainy days"
      ],
      "metadata": {
        "id": "c3C6-sQlOgOI"
      }
    },
    {
      "cell_type": "code",
      "source": [
        "rainfall = pd.read_csv('Datasets/Seattle2014.csv')['PRCP'].values\n",
        "inches = rainfall / 254   #1/10 mm --> inches\n",
        "inches.shape"
      ],
      "metadata": {
        "id": "DY97OvdiOKkH",
        "outputId": "93540ca4-318c-46f6-8966-785c39c41cc1",
        "colab": {
          "base_uri": "https://localhost:8080/"
        }
      },
      "execution_count": 145,
      "outputs": [
        {
          "output_type": "execute_result",
          "data": {
            "text/plain": [
              "(365,)"
            ]
          },
          "metadata": {},
          "execution_count": 145
        }
      ]
    },
    {
      "cell_type": "code",
      "source": [
        "plt.hist(inches, 40);"
      ],
      "metadata": {
        "id": "ntRUR-ORQLBg",
        "outputId": "2cd56c46-8f78-47d5-b4ec-eb922e634e0f",
        "colab": {
          "base_uri": "https://localhost:8080/",
          "height": 434
        }
      },
      "execution_count": 146,
      "outputs": [
        {
          "output_type": "display_data",
          "data": {
            "text/plain": [
              "<Figure size 640x480 with 1 Axes>"
            ],
            "image/png": "[encoded data removed]"
          },
          "metadata": {}
        }
      ]
    },
    {
      "cell_type": "markdown",
      "source": [
        "##Comparison operators as ufuncs"
      ],
      "metadata": {
        "id": "MbXMBXBdRFDB"
      }
    },
    {
      "cell_type": "code",
      "source": [
        "x = np.array([1, 2, 3, 4, 5])\n",
        "x < 3"
      ],
      "metadata": {
        "id": "6KAaXFNHRIHY",
        "outputId": "87f98899-a230-4754-ecfd-caec901c4a00",
        "colab": {
          "base_uri": "https://localhost:8080/"
        }
      },
      "execution_count": 147,
      "outputs": [
        {
          "output_type": "execute_result",
          "data": {
            "text/plain": [
              "array([ True,  True, False, False, False])"
            ]
          },
          "metadata": {},
          "execution_count": 147
        }
      ]
    },
    {
      "cell_type": "code",
      "source": [
        "x > 3"
      ],
      "metadata": {
        "id": "gJPM5PztRb_n",
        "outputId": "851b7bcb-04d1-4434-f391-3ce3194149f9",
        "colab": {
          "base_uri": "https://localhost:8080/"
        }
      },
      "execution_count": 148,
      "outputs": [
        {
          "output_type": "execute_result",
          "data": {
            "text/plain": [
              "array([False, False, False,  True,  True])"
            ]
          },
          "metadata": {},
          "execution_count": 148
        }
      ]
    },
    {
      "cell_type": "code",
      "source": [
        "x <= 3"
      ],
      "metadata": {
        "id": "eQdsZuFNReRY",
        "outputId": "9d1c6d4a-181e-4107-9566-da4503a390db",
        "colab": {
          "base_uri": "https://localhost:8080/"
        }
      },
      "execution_count": 149,
      "outputs": [
        {
          "output_type": "execute_result",
          "data": {
            "text/plain": [
              "array([ True,  True,  True, False, False])"
            ]
          },
          "metadata": {},
          "execution_count": 149
        }
      ]
    },
    {
      "cell_type": "code",
      "source": [
        "x >= 3"
      ],
      "metadata": {
        "id": "UBU-nny9Rg7v",
        "outputId": "12c7cee2-f887-4f45-f61a-55a6868fc89a",
        "colab": {
          "base_uri": "https://localhost:8080/"
        }
      },
      "execution_count": 150,
      "outputs": [
        {
          "output_type": "execute_result",
          "data": {
            "text/plain": [
              "array([False, False,  True,  True,  True])"
            ]
          },
          "metadata": {},
          "execution_count": 150
        }
      ]
    },
    {
      "cell_type": "code",
      "source": [
        "x != 3"
      ],
      "metadata": {
        "id": "wfVMv9weRivP",
        "outputId": "a2661a76-d7ef-48c6-f88f-4ba2db4f3284",
        "colab": {
          "base_uri": "https://localhost:8080/"
        }
      },
      "execution_count": 151,
      "outputs": [
        {
          "output_type": "execute_result",
          "data": {
            "text/plain": [
              "array([ True,  True, False,  True,  True])"
            ]
          },
          "metadata": {},
          "execution_count": 151
        }
      ]
    },
    {
      "cell_type": "code",
      "source": [
        "x == 3"
      ],
      "metadata": {
        "id": "NRsnk3GNRken",
        "outputId": "6ce6b984-c219-45ab-f233-4ecb028fb9d5",
        "colab": {
          "base_uri": "https://localhost:8080/"
        }
      },
      "execution_count": 152,
      "outputs": [
        {
          "output_type": "execute_result",
          "data": {
            "text/plain": [
              "array([False, False,  True, False, False])"
            ]
          },
          "metadata": {},
          "execution_count": 152
        }
      ]
    },
    {
      "cell_type": "code",
      "source": [
        "(2 * x) == (x ** 2)   #[2, 4, 6, 8, 10] == [1, 4, 9, 16, 25]"
      ],
      "metadata": {
        "id": "7jNnzDLERmuP",
        "outputId": "289cb795-27b1-4f81-f6d4-602eb415e495",
        "colab": {
          "base_uri": "https://localhost:8080/"
        }
      },
      "execution_count": 153,
      "outputs": [
        {
          "output_type": "execute_result",
          "data": {
            "text/plain": [
              "array([False,  True, False, False, False])"
            ]
          },
          "metadata": {},
          "execution_count": 153
        }
      ]
    },
    {
      "cell_type": "code",
      "source": [
        "rng = np.random.RandomState(0)\n",
        "x = rng.randint(10, size=(3, 4))\n",
        "x"
      ],
      "metadata": {
        "id": "PWTUPMP_SXgn",
        "outputId": "75006180-8920-46af-bf3d-8049ee4fb434",
        "colab": {
          "base_uri": "https://localhost:8080/"
        }
      },
      "execution_count": 154,
      "outputs": [
        {
          "output_type": "execute_result",
          "data": {
            "text/plain": [
              "array([[5, 0, 3, 3],\n",
              "       [7, 9, 3, 5],\n",
              "       [2, 4, 7, 6]])"
            ]
          },
          "metadata": {},
          "execution_count": 154
        }
      ]
    },
    {
      "cell_type": "code",
      "source": [
        "x < 6"
      ],
      "metadata": {
        "id": "LaqaBgJfSgkf",
        "outputId": "33bd4aea-f81f-410f-dae4-e554e03bd631",
        "colab": {
          "base_uri": "https://localhost:8080/"
        }
      },
      "execution_count": 155,
      "outputs": [
        {
          "output_type": "execute_result",
          "data": {
            "text/plain": [
              "array([[ True,  True,  True,  True],\n",
              "       [False, False,  True,  True],\n",
              "       [ True,  True, False, False]])"
            ]
          },
          "metadata": {},
          "execution_count": 155
        }
      ]
    },
    {
      "cell_type": "markdown",
      "source": [
        "##Working with boolean arrays"
      ],
      "metadata": {
        "id": "PK7PkATMSpvH"
      }
    },
    {
      "cell_type": "code",
      "source": [
        "print(x)"
      ],
      "metadata": {
        "id": "dbvZPcSFStVf",
        "outputId": "ef5a5a5d-7a69-4d16-b331-efd1045a060e",
        "colab": {
          "base_uri": "https://localhost:8080/"
        }
      },
      "execution_count": 156,
      "outputs": [
        {
          "output_type": "stream",
          "name": "stdout",
          "text": [
            "[[5 0 3 3]\n",
            " [7 9 3 5]\n",
            " [2 4 7 6]]\n"
          ]
        }
      ]
    },
    {
      "cell_type": "code",
      "source": [
        "np.count_nonzero(x < 6)   #False as 0"
      ],
      "metadata": {
        "id": "Q7e2H5shS0Xf",
        "outputId": "3b50c2a6-1296-48fd-d9c5-d1f222e5ad8f",
        "colab": {
          "base_uri": "https://localhost:8080/"
        }
      },
      "execution_count": 157,
      "outputs": [
        {
          "output_type": "execute_result",
          "data": {
            "text/plain": [
              "8"
            ]
          },
          "metadata": {},
          "execution_count": 157
        }
      ]
    },
    {
      "cell_type": "code",
      "source": [
        "np.sum(x < 6)   #In this case: False as 0, True as 1"
      ],
      "metadata": {
        "id": "8mcq0k4_S_of",
        "outputId": "a34e05f5-bdfa-426d-dd1d-e5930b6146fa",
        "colab": {
          "base_uri": "https://localhost:8080/"
        }
      },
      "execution_count": 158,
      "outputs": [
        {
          "output_type": "execute_result",
          "data": {
            "text/plain": [
              "np.int64(8)"
            ]
          },
          "metadata": {},
          "execution_count": 158
        }
      ]
    },
    {
      "cell_type": "code",
      "source": [
        "np.sum(x < 6, axis=1)   #How many values less then 6 in each row (column reducing)?"
      ],
      "metadata": {
        "id": "ikdTX8LSTOKf",
        "outputId": "e3dd97e4-b790-4d1f-d0ff-f6ef2fe2658b",
        "colab": {
          "base_uri": "https://localhost:8080/"
        }
      },
      "execution_count": 159,
      "outputs": [
        {
          "output_type": "execute_result",
          "data": {
            "text/plain": [
              "array([4, 2, 2])"
            ]
          },
          "metadata": {},
          "execution_count": 159
        }
      ]
    },
    {
      "cell_type": "code",
      "source": [
        "np.any(x > 8)"
      ],
      "metadata": {
        "id": "KfGRo4cUTfzv",
        "outputId": "c4de2649-30c3-473c-f4f6-8f7e7d16187b",
        "colab": {
          "base_uri": "https://localhost:8080/"
        }
      },
      "execution_count": 160,
      "outputs": [
        {
          "output_type": "execute_result",
          "data": {
            "text/plain": [
              "np.True_"
            ]
          },
          "metadata": {},
          "execution_count": 160
        }
      ]
    },
    {
      "cell_type": "code",
      "source": [
        "np.any(x < 0)"
      ],
      "metadata": {
        "id": "XSruS6SvTxQO",
        "outputId": "420c5ab2-8b4c-4b5e-d675-f29b8038f74e",
        "colab": {
          "base_uri": "https://localhost:8080/"
        }
      },
      "execution_count": 161,
      "outputs": [
        {
          "output_type": "execute_result",
          "data": {
            "text/plain": [
              "np.False_"
            ]
          },
          "metadata": {},
          "execution_count": 161
        }
      ]
    },
    {
      "cell_type": "code",
      "source": [
        "np.all(x < 10)"
      ],
      "metadata": {
        "id": "ZeGKwe4TTzig",
        "outputId": "fb7faeed-9291-4873-e23c-71a2aec4df65",
        "colab": {
          "base_uri": "https://localhost:8080/"
        }
      },
      "execution_count": 162,
      "outputs": [
        {
          "output_type": "execute_result",
          "data": {
            "text/plain": [
              "np.True_"
            ]
          },
          "metadata": {},
          "execution_count": 162
        }
      ]
    },
    {
      "cell_type": "code",
      "source": [
        "np.all(x == 6)"
      ],
      "metadata": {
        "id": "m9hBE8oWT1g3",
        "outputId": "40ce6626-f24e-4b6f-a560-5f90fd476348",
        "colab": {
          "base_uri": "https://localhost:8080/"
        }
      },
      "execution_count": 163,
      "outputs": [
        {
          "output_type": "execute_result",
          "data": {
            "text/plain": [
              "np.False_"
            ]
          },
          "metadata": {},
          "execution_count": 163
        }
      ]
    },
    {
      "cell_type": "code",
      "source": [
        "np.all(x < 8, axis=1)   #Are all values in each row less than 8?"
      ],
      "metadata": {
        "id": "cxcZARgET3aP",
        "outputId": "cfb514b1-fa48-4dcb-8152-e3bb67d8bae4",
        "colab": {
          "base_uri": "https://localhost:8080/"
        }
      },
      "execution_count": 164,
      "outputs": [
        {
          "output_type": "execute_result",
          "data": {
            "text/plain": [
              "array([ True, False,  True])"
            ]
          },
          "metadata": {},
          "execution_count": 164
        }
      ]
    },
    {
      "cell_type": "code",
      "source": [
        "np.sum((inches > 0.5) & (inches < 1))"
      ],
      "metadata": {
        "id": "v8062uxTUBh_",
        "outputId": "ab0c1c1d-8726-4656-b27d-e9b1bed29332",
        "colab": {
          "base_uri": "https://localhost:8080/"
        }
      },
      "execution_count": 165,
      "outputs": [
        {
          "output_type": "execute_result",
          "data": {
            "text/plain": [
              "np.int64(29)"
            ]
          },
          "metadata": {},
          "execution_count": 165
        }
      ]
    },
    {
      "cell_type": "code",
      "source": [
        "np.sum(~((inches <= 0.5) | (inches >= 1)))"
      ],
      "metadata": {
        "id": "_fPFgDYVYQaT",
        "outputId": "4ae37df0-9e98-4363-f3d8-c33a9261af0c",
        "colab": {
          "base_uri": "https://localhost:8080/"
        }
      },
      "execution_count": 166,
      "outputs": [
        {
          "output_type": "execute_result",
          "data": {
            "text/plain": [
              "np.int64(29)"
            ]
          },
          "metadata": {},
          "execution_count": 166
        }
      ]
    },
    {
      "cell_type": "code",
      "source": [
        "print('Number days without rain:      ', np.sum(inches == 0))\n",
        "print('Number days with rain:         ', np.sum(inches != 0))\n",
        "print('Days with more than 0.5 inches:', np.sum(inches > 0.5))\n",
        "print('Rainy days with < 0.1 inches:  ', np.sum((inches > 0) & (inches < 0.2)))"
      ],
      "metadata": {
        "id": "OE5-eBRxZOtc",
        "outputId": "384e89af-e18d-4400-b0bc-de72d423ea8a",
        "colab": {
          "base_uri": "https://localhost:8080/"
        }
      },
      "execution_count": 167,
      "outputs": [
        {
          "output_type": "stream",
          "name": "stdout",
          "text": [
            "Number days without rain:       215\n",
            "Number days with rain:          150\n",
            "Days with more than 0.5 inches: 37\n",
            "Rainy days with < 0.1 inches:   75\n"
          ]
        }
      ]
    },
    {
      "cell_type": "markdown",
      "source": [
        "##Boolean arrays as maks"
      ],
      "metadata": {
        "id": "oC0In3WJZ55s"
      }
    },
    {
      "cell_type": "code",
      "source": [
        "x"
      ],
      "metadata": {
        "id": "2PtO1DjtZskk",
        "outputId": "1ad476a1-de3e-417a-aa5a-28c60cd40d25",
        "colab": {
          "base_uri": "https://localhost:8080/"
        }
      },
      "execution_count": 168,
      "outputs": [
        {
          "output_type": "execute_result",
          "data": {
            "text/plain": [
              "array([[5, 0, 3, 3],\n",
              "       [7, 9, 3, 5],\n",
              "       [2, 4, 7, 6]])"
            ]
          },
          "metadata": {},
          "execution_count": 168
        }
      ]
    },
    {
      "cell_type": "code",
      "source": [
        "x < 5"
      ],
      "metadata": {
        "id": "SnsAAnnpa0vt",
        "outputId": "c4f792ba-1c2c-494f-98e0-a846428b1f33",
        "colab": {
          "base_uri": "https://localhost:8080/"
        }
      },
      "execution_count": 169,
      "outputs": [
        {
          "output_type": "execute_result",
          "data": {
            "text/plain": [
              "array([[False,  True,  True,  True],\n",
              "       [False, False,  True, False],\n",
              "       [ True,  True, False, False]])"
            ]
          },
          "metadata": {},
          "execution_count": 169
        }
      ]
    },
    {
      "cell_type": "code",
      "source": [
        "x[x < 5]   #Select elements of x that are less than 5 (it returns a one-dimensional array)"
      ],
      "metadata": {
        "id": "CtUHD6MobSMt",
        "outputId": "cfd148b0-5913-40ad-b34a-f31b750005e5",
        "colab": {
          "base_uri": "https://localhost:8080/"
        }
      },
      "execution_count": 170,
      "outputs": [
        {
          "output_type": "execute_result",
          "data": {
            "text/plain": [
              "array([0, 3, 3, 3, 2, 4])"
            ]
          },
          "metadata": {},
          "execution_count": 170
        }
      ]
    },
    {
      "cell_type": "code",
      "source": [
        "rainy = (inches > 0)\n",
        "\n",
        "summer = (np.arange(365) - 172 < 90) & (np.arange(365) - 172 > 0)   #Construct a mask of all summer days (June 21st is the 172nd day)\n",
        "\n",
        "print('Median precip on rainy days in 2014 (inches):   ', np.median(inches[rainy]))\n",
        "print('Median precip on summer days in 2014 (inches):  ', np.median(inches[summer]))\n",
        "print('Maximum precip on summer days in 2014 (inches): ', np.max(inches[summer]))\n",
        "print('Median precip on non-summer rainy days (inches):', np.median(inches[rainy & ~summer]))"
      ],
      "metadata": {
        "id": "B9cz2XJ1bnJ3",
        "colab": {
          "base_uri": "https://localhost:8080/"
        },
        "outputId": "eff82495-316c-4564-a7e0-ef633f85fd2a"
      },
      "execution_count": 171,
      "outputs": [
        {
          "output_type": "stream",
          "name": "stdout",
          "text": [
            "Median precip on rainy days in 2014 (inches):    0.19488188976377951\n",
            "Median precip on summer days in 2014 (inches):   0.0\n",
            "Maximum precip on summer days in 2014 (inches):  0.8503937007874016\n",
            "Median precip on non-summer rainy days (inches): 0.20078740157480315\n"
          ]
        }
      ]
    },
    {
      "cell_type": "code",
      "source": [
        "bool(42), bool(0)"
      ],
      "metadata": {
        "id": "RZVrNBkP5-gX",
        "colab": {
          "base_uri": "https://localhost:8080/"
        },
        "outputId": "b482673f-912a-4abf-cc33-d5360d3b387c"
      },
      "execution_count": 172,
      "outputs": [
        {
          "output_type": "execute_result",
          "data": {
            "text/plain": [
              "(True, False)"
            ]
          },
          "metadata": {},
          "execution_count": 172
        }
      ]
    },
    {
      "cell_type": "code",
      "source": [
        "bool(42 and 0)"
      ],
      "metadata": {
        "id": "M63C-jtO6hJO",
        "colab": {
          "base_uri": "https://localhost:8080/"
        },
        "outputId": "4581cf95-3538-4181-d578-978ba6c1a5b6"
      },
      "execution_count": 173,
      "outputs": [
        {
          "output_type": "execute_result",
          "data": {
            "text/plain": [
              "False"
            ]
          },
          "metadata": {},
          "execution_count": 173
        }
      ]
    },
    {
      "cell_type": "code",
      "source": [
        "bool(42 or 0)"
      ],
      "metadata": {
        "id": "o0W5clHh6jde",
        "colab": {
          "base_uri": "https://localhost:8080/"
        },
        "outputId": "08c2e55d-5484-4fe1-f07d-4c40d6943241"
      },
      "execution_count": 174,
      "outputs": [
        {
          "output_type": "execute_result",
          "data": {
            "text/plain": [
              "True"
            ]
          },
          "metadata": {},
          "execution_count": 174
        }
      ]
    },
    {
      "cell_type": "code",
      "source": [
        "bin(42)"
      ],
      "metadata": {
        "id": "7tqe5YkV6ll2",
        "colab": {
          "base_uri": "https://localhost:8080/",
          "height": 35
        },
        "outputId": "bd725b5f-f10a-4554-f1b1-f55d8877254f"
      },
      "execution_count": 175,
      "outputs": [
        {
          "output_type": "execute_result",
          "data": {
            "text/plain": [
              "'0b101010'"
            ],
            "application/vnd.google.colaboratory.intrinsic+json": {
              "type": "string"
            }
          },
          "metadata": {},
          "execution_count": 175
        }
      ]
    },
    {
      "cell_type": "code",
      "source": [
        "bin(59)"
      ],
      "metadata": {
        "id": "N5R9z-Te6zWl",
        "colab": {
          "base_uri": "https://localhost:8080/",
          "height": 35
        },
        "outputId": "172b4a73-9f3f-4bbb-e83f-8e491fb93da1"
      },
      "execution_count": 176,
      "outputs": [
        {
          "output_type": "execute_result",
          "data": {
            "text/plain": [
              "'0b111011'"
            ],
            "application/vnd.google.colaboratory.intrinsic+json": {
              "type": "string"
            }
          },
          "metadata": {},
          "execution_count": 176
        }
      ]
    },
    {
      "cell_type": "code",
      "source": [
        "bin(42 & 59)"
      ],
      "metadata": {
        "id": "Dgn4NTFp602t",
        "colab": {
          "base_uri": "https://localhost:8080/",
          "height": 35
        },
        "outputId": "ba534e93-5608-4df8-e426-4dbd031d6fd4"
      },
      "execution_count": 177,
      "outputs": [
        {
          "output_type": "execute_result",
          "data": {
            "text/plain": [
              "'0b101010'"
            ],
            "application/vnd.google.colaboratory.intrinsic+json": {
              "type": "string"
            }
          },
          "metadata": {},
          "execution_count": 177
        }
      ]
    },
    {
      "cell_type": "code",
      "source": [
        "bin(42 | 59)"
      ],
      "metadata": {
        "id": "ZXp0uaUw63J1",
        "colab": {
          "base_uri": "https://localhost:8080/",
          "height": 35
        },
        "outputId": "2b3d2b50-491c-4554-e1f4-364dee5fc76a"
      },
      "execution_count": 178,
      "outputs": [
        {
          "output_type": "execute_result",
          "data": {
            "text/plain": [
              "'0b111011'"
            ],
            "application/vnd.google.colaboratory.intrinsic+json": {
              "type": "string"
            }
          },
          "metadata": {},
          "execution_count": 178
        }
      ]
    },
    {
      "cell_type": "code",
      "source": [
        "A = np.array([1, 0, 1, 0, 1, 0], dtype=bool)\n",
        "B = np.array([1, 1, 1, 0, 1, 1], dtype=bool)\n",
        "A | B   #Or elementwise"
      ],
      "metadata": {
        "id": "1e76z8Ag67GV",
        "colab": {
          "base_uri": "https://localhost:8080/"
        },
        "outputId": "9f242294-d5bd-4209-eab7-d8f32357c6e1"
      },
      "execution_count": 179,
      "outputs": [
        {
          "output_type": "execute_result",
          "data": {
            "text/plain": [
              "array([ True,  True,  True, False,  True,  True])"
            ]
          },
          "metadata": {},
          "execution_count": 179
        }
      ]
    },
    {
      "cell_type": "code",
      "source": [
        "#A or B   #Error"
      ],
      "metadata": {
        "id": "WBmOW4hl7k-D"
      },
      "execution_count": 180,
      "outputs": []
    },
    {
      "cell_type": "code",
      "source": [
        "x = np.arange(10)\n",
        "(x > 4) & (x < 8)"
      ],
      "metadata": {
        "id": "YhDup5CT7nND",
        "colab": {
          "base_uri": "https://localhost:8080/"
        },
        "outputId": "fdeedc07-ace6-4723-ded8-eb3511767155"
      },
      "execution_count": 181,
      "outputs": [
        {
          "output_type": "execute_result",
          "data": {
            "text/plain": [
              "array([False, False, False, False, False,  True,  True,  True, False,\n",
              "       False])"
            ]
          },
          "metadata": {},
          "execution_count": 181
        }
      ]
    },
    {
      "cell_type": "code",
      "source": [
        "#(x > 4) and (x < 8)   #Error"
      ],
      "metadata": {
        "id": "Dd_kCGqx71xa"
      },
      "execution_count": 182,
      "outputs": []
    },
    {
      "cell_type": "markdown",
      "source": [
        "#Fancy indexing"
      ],
      "metadata": {
        "id": "h1VAZnSV8Coa"
      }
    },
    {
      "cell_type": "markdown",
      "source": [
        "##Exploring fancy indexing"
      ],
      "metadata": {
        "id": "jwZM3O8W9FV7"
      }
    },
    {
      "cell_type": "code",
      "source": [
        "rand = np.random.RandomState(42)\n",
        "\n",
        "x = rand.randint(100, size=10)\n",
        "print(x)"
      ],
      "metadata": {
        "id": "ZTyrddfn74_z",
        "colab": {
          "base_uri": "https://localhost:8080/"
        },
        "outputId": "a12a86bc-366a-4b84-f564-0057ad2213e8"
      },
      "execution_count": 183,
      "outputs": [
        {
          "output_type": "stream",
          "name": "stdout",
          "text": [
            "[51 92 14 71 60 20 82 86 74 74]\n"
          ]
        }
      ]
    },
    {
      "cell_type": "code",
      "source": [
        "[x[3], x[7], x[2]]"
      ],
      "metadata": {
        "id": "P_4d-aXl9U8-",
        "colab": {
          "base_uri": "https://localhost:8080/"
        },
        "outputId": "d6f8048b-40ac-4f70-d02e-a4856a180198"
      },
      "execution_count": 184,
      "outputs": [
        {
          "output_type": "execute_result",
          "data": {
            "text/plain": [
              "[np.int64(71), np.int64(86), np.int64(14)]"
            ]
          },
          "metadata": {},
          "execution_count": 184
        }
      ]
    },
    {
      "cell_type": "code",
      "source": [
        "ind = [3, 7, 4]\n",
        "x[ind]   #Same shape of the array of indexes (not of the array being indexed)"
      ],
      "metadata": {
        "id": "GOLsIvcP9dbq",
        "colab": {
          "base_uri": "https://localhost:8080/"
        },
        "outputId": "f1fbc600-2137-45b4-db78-2d8215982522"
      },
      "execution_count": 185,
      "outputs": [
        {
          "output_type": "execute_result",
          "data": {
            "text/plain": [
              "array([71, 86, 60])"
            ]
          },
          "metadata": {},
          "execution_count": 185
        }
      ]
    },
    {
      "cell_type": "code",
      "source": [
        "ind = np.array([[3, 7],\n",
        "                [4, 5]])\n",
        "x[ind]"
      ],
      "metadata": {
        "id": "JPAWtd1F9lsC",
        "colab": {
          "base_uri": "https://localhost:8080/"
        },
        "outputId": "710a06e2-55d5-44c6-b50a-01ed82c34e05"
      },
      "execution_count": 186,
      "outputs": [
        {
          "output_type": "execute_result",
          "data": {
            "text/plain": [
              "array([[71, 86],\n",
              "       [60, 20]])"
            ]
          },
          "metadata": {},
          "execution_count": 186
        }
      ]
    },
    {
      "cell_type": "code",
      "source": [
        "X = np.arange(12).reshape((3, 4))\n",
        "X"
      ],
      "metadata": {
        "id": "5GEvGWpg97_P",
        "colab": {
          "base_uri": "https://localhost:8080/"
        },
        "outputId": "9e6d1456-039a-472d-a259-b5d31f17a78e"
      },
      "execution_count": 187,
      "outputs": [
        {
          "output_type": "execute_result",
          "data": {
            "text/plain": [
              "array([[ 0,  1,  2,  3],\n",
              "       [ 4,  5,  6,  7],\n",
              "       [ 8,  9, 10, 11]])"
            ]
          },
          "metadata": {},
          "execution_count": 187
        }
      ]
    },
    {
      "cell_type": "code",
      "source": [
        "row = np.array([0, 1, 2])\n",
        "col = np.array([2, 1, 3])\n",
        "X[row, col]"
      ],
      "metadata": {
        "id": "IWOWkHQJ-Acf",
        "colab": {
          "base_uri": "https://localhost:8080/"
        },
        "outputId": "43fa6697-0145-4837-f388-49cf5a32dc9c"
      },
      "execution_count": 188,
      "outputs": [
        {
          "output_type": "execute_result",
          "data": {
            "text/plain": [
              "array([ 2,  5, 11])"
            ]
          },
          "metadata": {},
          "execution_count": 188
        }
      ]
    },
    {
      "cell_type": "code",
      "source": [
        "X[row[:, np.newaxis], col]"
      ],
      "metadata": {
        "id": "5HOuuwes-Lk_",
        "colab": {
          "base_uri": "https://localhost:8080/"
        },
        "outputId": "1c0cd40c-5de7-487f-c424-bad22dd149bc"
      },
      "execution_count": 189,
      "outputs": [
        {
          "output_type": "execute_result",
          "data": {
            "text/plain": [
              "array([[ 2,  1,  3],\n",
              "       [ 6,  5,  7],\n",
              "       [10,  9, 11]])"
            ]
          },
          "metadata": {},
          "execution_count": 189
        }
      ]
    },
    {
      "cell_type": "code",
      "source": [
        "row[:, np.newaxis] * col"
      ],
      "metadata": {
        "id": "U8cmdALO-pUn",
        "colab": {
          "base_uri": "https://localhost:8080/"
        },
        "outputId": "729b51d9-728b-47b8-d5a4-98b2b98b6659"
      },
      "execution_count": 190,
      "outputs": [
        {
          "output_type": "execute_result",
          "data": {
            "text/plain": [
              "array([[0, 0, 0],\n",
              "       [2, 1, 3],\n",
              "       [4, 2, 6]])"
            ]
          },
          "metadata": {},
          "execution_count": 190
        }
      ]
    },
    {
      "cell_type": "markdown",
      "source": [
        "##Combined indexing"
      ],
      "metadata": {
        "id": "PDwcVn-c_Tyt"
      }
    },
    {
      "cell_type": "code",
      "source": [
        "print(X)"
      ],
      "metadata": {
        "id": "D57mX_hL_Z2p",
        "colab": {
          "base_uri": "https://localhost:8080/"
        },
        "outputId": "df2eb3ea-7f99-49bb-8d1f-233b89dfa9e8"
      },
      "execution_count": 191,
      "outputs": [
        {
          "output_type": "stream",
          "name": "stdout",
          "text": [
            "[[ 0  1  2  3]\n",
            " [ 4  5  6  7]\n",
            " [ 8  9 10 11]]\n"
          ]
        }
      ]
    },
    {
      "cell_type": "code",
      "source": [
        "X[2, [2, 0, 1]]"
      ],
      "metadata": {
        "id": "LHwTKVq4_a9o",
        "colab": {
          "base_uri": "https://localhost:8080/"
        },
        "outputId": "95cbd034-b86d-4c54-8469-6a54e2786acc"
      },
      "execution_count": 192,
      "outputs": [
        {
          "output_type": "execute_result",
          "data": {
            "text/plain": [
              "array([10,  8,  9])"
            ]
          },
          "metadata": {},
          "execution_count": 192
        }
      ]
    },
    {
      "cell_type": "code",
      "source": [
        "X[1:, [2, 0, 1]]"
      ],
      "metadata": {
        "id": "suVa8uTo_j8_",
        "colab": {
          "base_uri": "https://localhost:8080/"
        },
        "outputId": "6817438f-7bd4-4e3a-da22-77b51171cefe"
      },
      "execution_count": 193,
      "outputs": [
        {
          "output_type": "execute_result",
          "data": {
            "text/plain": [
              "array([[ 6,  4,  5],\n",
              "       [10,  8,  9]])"
            ]
          },
          "metadata": {},
          "execution_count": 193
        }
      ]
    },
    {
      "cell_type": "code",
      "source": [
        "mask = np.array([1, 0, 1, 0], dtype=bool)\n",
        "X[row[:, np.newaxis], mask]"
      ],
      "metadata": {
        "id": "E-vU14wzM-O-",
        "colab": {
          "base_uri": "https://localhost:8080/"
        },
        "outputId": "5ffd4f89-21ce-41cc-b53a-66486161e0eb"
      },
      "execution_count": 194,
      "outputs": [
        {
          "output_type": "execute_result",
          "data": {
            "text/plain": [
              "array([[ 0,  2],\n",
              "       [ 4,  6],\n",
              "       [ 8, 10]])"
            ]
          },
          "metadata": {},
          "execution_count": 194
        }
      ]
    },
    {
      "cell_type": "markdown",
      "source": [
        "##Example: selecting random points"
      ],
      "metadata": {
        "id": "U7XwvyO8NVT-"
      }
    },
    {
      "cell_type": "code",
      "source": [
        "mean = [0, 0]\n",
        "cov = [[1, 2],\n",
        "       [2, 5]]\n",
        "X = rand.multivariate_normal(mean, cov, 100)\n",
        "X.shape"
      ],
      "metadata": {
        "id": "7eBo7ItRNYPm",
        "colab": {
          "base_uri": "https://localhost:8080/"
        },
        "outputId": "94fc8202-ecd1-4a53-bb8b-ca721588a55c"
      },
      "execution_count": 195,
      "outputs": [
        {
          "output_type": "execute_result",
          "data": {
            "text/plain": [
              "(100, 2)"
            ]
          },
          "metadata": {},
          "execution_count": 195
        }
      ]
    },
    {
      "cell_type": "code",
      "source": [
        "plt.scatter(X[:, 0], X[:, 1]);"
      ],
      "metadata": {
        "id": "chAWW4sVN7ld",
        "colab": {
          "base_uri": "https://localhost:8080/",
          "height": 434
        },
        "outputId": "9ab0eaa1-ccef-4880-de26-f0d92f68405c"
      },
      "execution_count": 196,
      "outputs": [
        {
          "output_type": "display_data",
          "data": {
            "text/plain": [
              "<Figure size 640x480 with 1 Axes>"
            ],
            "image/png": "[encoded data removed]"
          },
          "metadata": {}
        }
      ]
    },
    {
      "cell_type": "code",
      "source": [
        "indices = np.random.choice(X.shape[0], 20, replace=False)   #Drawn 20 random indices (from 0 to X.shape[0] - 1) without replacement\n",
        "indices"
      ],
      "metadata": {
        "id": "9uDFIkPzOOdu",
        "colab": {
          "base_uri": "https://localhost:8080/"
        },
        "outputId": "65a659e3-a7bb-450c-89bd-5b612d03580b"
      },
      "execution_count": 197,
      "outputs": [
        {
          "output_type": "execute_result",
          "data": {
            "text/plain": [
              "array([22, 34, 30, 40, 27, 12, 65,  5, 54, 74, 78, 96, 70, 18, 72, 89, 29,\n",
              "       45, 36, 88])"
            ]
          },
          "metadata": {},
          "execution_count": 197
        }
      ]
    },
    {
      "cell_type": "code",
      "source": [
        "selection = X[indices]\n",
        "selection.shape"
      ],
      "metadata": {
        "id": "UJ1Z--lyO6i_",
        "colab": {
          "base_uri": "https://localhost:8080/"
        },
        "outputId": "b95c05a2-2d3c-4f6a-f7bb-a8ea4dd5307b"
      },
      "execution_count": 198,
      "outputs": [
        {
          "output_type": "execute_result",
          "data": {
            "text/plain": [
              "(20, 2)"
            ]
          },
          "metadata": {},
          "execution_count": 198
        }
      ]
    },
    {
      "cell_type": "code",
      "source": [
        "plt.scatter(X[:, 0], X[:, 1], alpha=0.3)\n",
        "plt.scatter(selection[:, 0], selection[:, 1], facecolor='none', edgecolor='red', s=200);"
      ],
      "metadata": {
        "id": "P5IyFiaFPFV_",
        "colab": {
          "base_uri": "https://localhost:8080/",
          "height": 434
        },
        "outputId": "fa1501bc-0d3e-4ceb-a378-603df3837144"
      },
      "execution_count": 199,
      "outputs": [
        {
          "output_type": "display_data",
          "data": {
            "text/plain": [
              "<Figure size 640x480 with 1 Axes>"
            ],
            "image/png": "[encoded data removed]"
          },
          "metadata": {}
        }
      ]
    },
    {
      "cell_type": "markdown",
      "source": [
        "##Modifying values with fancy indexing"
      ],
      "metadata": {
        "id": "H9nuiIRnPfva"
      }
    },
    {
      "cell_type": "code",
      "source": [
        "x = np.arange(10)\n",
        "i = np.array([2, 1, 8, 4])\n",
        "x[i] = 99\n",
        "print(x)"
      ],
      "metadata": {
        "id": "25NXwrKRPnUN",
        "colab": {
          "base_uri": "https://localhost:8080/"
        },
        "outputId": "0e325b99-9256-43fb-d8fc-83c1a277abb1"
      },
      "execution_count": 200,
      "outputs": [
        {
          "output_type": "stream",
          "name": "stdout",
          "text": [
            "[ 0 99 99  3 99  5  6  7 99  9]\n"
          ]
        }
      ]
    },
    {
      "cell_type": "code",
      "source": [
        "x[i] -= 10\n",
        "print(x)"
      ],
      "metadata": {
        "id": "29WTOmfOP411",
        "colab": {
          "base_uri": "https://localhost:8080/"
        },
        "outputId": "672b10a8-fae8-4ef9-fcb6-999eb9738b08"
      },
      "execution_count": 201,
      "outputs": [
        {
          "output_type": "stream",
          "name": "stdout",
          "text": [
            "[ 0 89 89  3 89  5  6  7 89  9]\n"
          ]
        }
      ]
    },
    {
      "cell_type": "code",
      "source": [
        "x = np.zeros(10)\n",
        "x[[0, 0]] = [4, 6]\n",
        "print(x)"
      ],
      "metadata": {
        "id": "8g0xRoqZQGYo",
        "colab": {
          "base_uri": "https://localhost:8080/"
        },
        "outputId": "c6001ca3-1e39-49cb-f401-30f38c1fee18"
      },
      "execution_count": 202,
      "outputs": [
        {
          "output_type": "stream",
          "name": "stdout",
          "text": [
            "[6. 0. 0. 0. 0. 0. 0. 0. 0. 0.]\n"
          ]
        }
      ]
    },
    {
      "cell_type": "code",
      "source": [
        "i = [2, 3, 3, 4, 4, 4]\n",
        "x[i] += 1\n",
        "x"
      ],
      "metadata": {
        "id": "t7loM7msQOcG",
        "colab": {
          "base_uri": "https://localhost:8080/"
        },
        "outputId": "c10c7ce4-4967-4e11-bee6-fd11e4741c05"
      },
      "execution_count": 203,
      "outputs": [
        {
          "output_type": "execute_result",
          "data": {
            "text/plain": [
              "array([6., 0., 1., 1., 1., 0., 0., 0., 0., 0.])"
            ]
          },
          "metadata": {},
          "execution_count": 203
        }
      ]
    },
    {
      "cell_type": "code",
      "source": [
        "x = np.zeros(10)\n",
        "np.add.at(x, i, 1)\n",
        "print(x)"
      ],
      "metadata": {
        "id": "TJAf0HhxQ6td",
        "colab": {
          "base_uri": "https://localhost:8080/"
        },
        "outputId": "ef75f140-e3fc-4b9d-d316-d0199bc8e9df"
      },
      "execution_count": 204,
      "outputs": [
        {
          "output_type": "stream",
          "name": "stdout",
          "text": [
            "[0. 0. 1. 2. 3. 0. 0. 0. 0. 0.]\n"
          ]
        }
      ]
    },
    {
      "cell_type": "markdown",
      "source": [
        "##Example: binning data"
      ],
      "metadata": {
        "id": "qAOM7wKtRI7l"
      }
    },
    {
      "cell_type": "code",
      "source": [
        "np.random.seed(42)\n",
        "x = np.random.randn(100)\n",
        "\n",
        "bins = np.linspace(-5, 5, 20)\n",
        "counts = np.zeros_like(bins)   #Return an array of zeros with the same shape and type as the bins array\n",
        "\n",
        "#Find the indices into the sorted array bins such that, if the corresponding elements in x were inserted before the indices, the order of bins would be preserved.\n",
        "i = np.searchsorted(bins, x)\n",
        "\n",
        "np.add.at(counts, i, 1)"
      ],
      "metadata": {
        "id": "JwNkrOl5RBn1"
      },
      "execution_count": 205,
      "outputs": []
    },
    {
      "cell_type": "code",
      "source": [
        "plt.plot(bins, counts, drawstyle='steps');"
      ],
      "metadata": {
        "id": "_v68BAedSy4v",
        "colab": {
          "base_uri": "https://localhost:8080/",
          "height": 434
        },
        "outputId": "8d13ee3a-a821-4e59-b631-21c455186aeb"
      },
      "execution_count": 206,
      "outputs": [
        {
          "output_type": "display_data",
          "data": {
            "text/plain": [
              "<Figure size 640x480 with 1 Axes>"
            ],
            "image/png": "[encoded data removed]"
          },
          "metadata": {}
        }
      ]
    },
    {
      "cell_type": "code",
      "source": [
        "plt.hist(x, bins, histtype='step');"
      ],
      "metadata": {
        "id": "loIzJgVrS3fU",
        "colab": {
          "base_uri": "https://localhost:8080/",
          "height": 434
        },
        "outputId": "2c1cc204-7067-4656-a10d-fdf1e75c5080"
      },
      "execution_count": 207,
      "outputs": [
        {
          "output_type": "display_data",
          "data": {
            "text/plain": [
              "<Figure size 640x480 with 1 Axes>"
            ],
            "image/png": "[encoded data removed]"
          },
          "metadata": {}
        }
      ]
    },
    {
      "cell_type": "code",
      "source": [
        "print('Numpy routine:')\n",
        "%timeit counts, edges = np.histogram(x, bins)\n",
        "\n",
        "print('Custom routine:')\n",
        "%timeit np.add.at(counts, np.searchsorted(bins, x), 1)"
      ],
      "metadata": {
        "id": "RQ7ymU1_TCul",
        "colab": {
          "base_uri": "https://localhost:8080/"
        },
        "outputId": "3a9044ab-7e6d-47c1-c8b7-983460f87e9e"
      },
      "execution_count": 208,
      "outputs": [
        {
          "output_type": "stream",
          "name": "stdout",
          "text": [
            "Numpy routine:\n",
            "24.1 µs ± 1.57 µs per loop (mean ± std. dev. of 7 runs, 10000 loops each)\n",
            "Custom routine:\n",
            "17.5 µs ± 3.2 µs per loop (mean ± std. dev. of 7 runs, 100000 loops each)\n"
          ]
        }
      ]
    },
    {
      "cell_type": "code",
      "source": [
        "x = np.random.randn(1000000)\n",
        "\n",
        "print('Numpy routine:')\n",
        "%timeit counts, edges = np.histogram(x, bins)\n",
        "\n",
        "print('Custom routine:')\n",
        "%timeit np.add.at(counts, np.searchsorted(bins, x), 1)"
      ],
      "metadata": {
        "id": "_jozSI5oTwkl",
        "colab": {
          "base_uri": "https://localhost:8080/"
        },
        "outputId": "fe768da5-01b4-471d-a8e1-27cbb242c7a0"
      },
      "execution_count": 209,
      "outputs": [
        {
          "output_type": "stream",
          "name": "stdout",
          "text": [
            "Numpy routine:\n",
            "20 ms ± 2.93 ms per loop (mean ± std. dev. of 7 runs, 100 loops each)\n",
            "Custom routine:\n",
            "143 ms ± 36.7 ms per loop (mean ± std. dev. of 7 runs, 10 loops each)\n"
          ]
        }
      ]
    },
    {
      "cell_type": "markdown",
      "source": [
        "#Sorting arrays"
      ],
      "metadata": {
        "id": "xGV-O3yDUTKV"
      }
    },
    {
      "cell_type": "code",
      "source": [
        "def selection_sort(x):\n",
        "  for i in range(len(x)):\n",
        "    swap = i + np.argmin(x[i:])\n",
        "    (x[i], x[swap]) = (x[swap], x[i])\n",
        "  return x"
      ],
      "metadata": {
        "id": "ZoFh2s9sL04S"
      },
      "execution_count": 210,
      "outputs": []
    },
    {
      "cell_type": "code",
      "source": [
        "x = np.array([2, 1, 4, 3, 5])\n",
        "selection_sort(x)"
      ],
      "metadata": {
        "colab": {
          "base_uri": "https://localhost:8080/"
        },
        "id": "tEq4ftZKMwTl",
        "outputId": "4e7609f7-d1e2-404a-d52c-233c2fdbbda7"
      },
      "execution_count": 211,
      "outputs": [
        {
          "output_type": "execute_result",
          "data": {
            "text/plain": [
              "array([1, 2, 3, 4, 5])"
            ]
          },
          "metadata": {},
          "execution_count": 211
        }
      ]
    },
    {
      "cell_type": "code",
      "source": [
        "def bogosort(x):\n",
        "  while np.any(x[: -1] > x[1:]):\n",
        "    np.random.shuffle(x)\n",
        "  return x"
      ],
      "metadata": {
        "id": "Hy2F6mvtNftk"
      },
      "execution_count": 212,
      "outputs": []
    },
    {
      "cell_type": "code",
      "source": [
        "x = np.array([2, 1, 4, 3, 5])\n",
        "bogosort(x)"
      ],
      "metadata": {
        "colab": {
          "base_uri": "https://localhost:8080/"
        },
        "id": "dfo92wunN5hM",
        "outputId": "0119f98f-6954-49c1-cdd2-e5de37409bb5"
      },
      "execution_count": 213,
      "outputs": [
        {
          "output_type": "execute_result",
          "data": {
            "text/plain": [
              "array([1, 2, 3, 4, 5])"
            ]
          },
          "metadata": {},
          "execution_count": 213
        }
      ]
    },
    {
      "cell_type": "markdown",
      "source": [
        "##Fast sorting in numpy: np.sort and np.argsort"
      ],
      "metadata": {
        "id": "71Duwm3wPE7N"
      }
    },
    {
      "cell_type": "code",
      "source": [
        "x = np.array([2, 1, 4, 3, 5])\n",
        "np.sort(x)   #Quick-sort O(n log(n))"
      ],
      "metadata": {
        "colab": {
          "base_uri": "https://localhost:8080/"
        },
        "id": "qu6AyIJBPJ6S",
        "outputId": "92b2c056-f098-4409-e7aa-e9e5dcaef0a9"
      },
      "execution_count": 214,
      "outputs": [
        {
          "output_type": "execute_result",
          "data": {
            "text/plain": [
              "array([1, 2, 3, 4, 5])"
            ]
          },
          "metadata": {},
          "execution_count": 214
        }
      ]
    },
    {
      "cell_type": "code",
      "source": [
        "x.sort()   #In-place\n",
        "print(x)"
      ],
      "metadata": {
        "colab": {
          "base_uri": "https://localhost:8080/"
        },
        "id": "4nLvzOVnPrK6",
        "outputId": "59a4ceb7-5496-4fdc-b8fb-e08b1b578d9c"
      },
      "execution_count": 215,
      "outputs": [
        {
          "output_type": "stream",
          "name": "stdout",
          "text": [
            "[1 2 3 4 5]\n"
          ]
        }
      ]
    },
    {
      "cell_type": "code",
      "source": [
        "x = np.array([2, 1, 4, 3, 5])\n",
        "i = np.argsort(x)\n",
        "print(i)"
      ],
      "metadata": {
        "colab": {
          "base_uri": "https://localhost:8080/"
        },
        "id": "EZ-EpuZEPwRL",
        "outputId": "d9537d92-0fb8-4e26-e32f-348d17f30241"
      },
      "execution_count": 216,
      "outputs": [
        {
          "output_type": "stream",
          "name": "stdout",
          "text": [
            "[1 0 3 2 4]\n"
          ]
        }
      ]
    },
    {
      "cell_type": "code",
      "source": [
        "x[i]"
      ],
      "metadata": {
        "colab": {
          "base_uri": "https://localhost:8080/"
        },
        "id": "mBz-LL0EQC4-",
        "outputId": "e5267522-828c-4eb7-e5fb-d4a49c66f946"
      },
      "execution_count": 217,
      "outputs": [
        {
          "output_type": "execute_result",
          "data": {
            "text/plain": [
              "array([1, 2, 3, 4, 5])"
            ]
          },
          "metadata": {},
          "execution_count": 217
        }
      ]
    },
    {
      "cell_type": "code",
      "source": [
        "rand = np.random.RandomState(42)\n",
        "X = rand.randint(0, 10, (4, 6))\n",
        "print(X)"
      ],
      "metadata": {
        "colab": {
          "base_uri": "https://localhost:8080/"
        },
        "id": "FgCaeVbJQKLb",
        "outputId": "f26b50c5-4039-49dc-8302-f0226fe115b3"
      },
      "execution_count": 218,
      "outputs": [
        {
          "output_type": "stream",
          "name": "stdout",
          "text": [
            "[[6 3 7 4 6 9]\n",
            " [2 6 7 4 3 7]\n",
            " [7 2 5 4 1 7]\n",
            " [5 1 4 0 9 5]]\n"
          ]
        }
      ]
    },
    {
      "cell_type": "code",
      "source": [
        "np.sort(X, axis=0)   #Sort along rows: sorted columns"
      ],
      "metadata": {
        "colab": {
          "base_uri": "https://localhost:8080/"
        },
        "id": "Y0gHRVr4QThC",
        "outputId": "5f67b5e2-1f53-4881-8c5b-472314784828"
      },
      "execution_count": 219,
      "outputs": [
        {
          "output_type": "execute_result",
          "data": {
            "text/plain": [
              "array([[2, 1, 4, 0, 1, 5],\n",
              "       [5, 2, 5, 4, 3, 7],\n",
              "       [6, 3, 7, 4, 6, 7],\n",
              "       [7, 6, 7, 4, 9, 9]])"
            ]
          },
          "metadata": {},
          "execution_count": 219
        }
      ]
    },
    {
      "cell_type": "code",
      "source": [
        "np.sort(X, axis=1)   #Sort along columns: sorted rows"
      ],
      "metadata": {
        "colab": {
          "base_uri": "https://localhost:8080/"
        },
        "id": "dXfoqktfQn4b",
        "outputId": "afe9a0d9-e623-4876-97a3-1fab26335326"
      },
      "execution_count": 220,
      "outputs": [
        {
          "output_type": "execute_result",
          "data": {
            "text/plain": [
              "array([[3, 4, 6, 6, 7, 9],\n",
              "       [2, 3, 4, 6, 7, 7],\n",
              "       [1, 2, 4, 5, 7, 7],\n",
              "       [0, 1, 4, 5, 5, 9]])"
            ]
          },
          "metadata": {},
          "execution_count": 220
        }
      ]
    },
    {
      "cell_type": "markdown",
      "source": [
        "##Partial sorts: partitioning"
      ],
      "metadata": {
        "id": "fpeO6nJyQ_n_"
      }
    },
    {
      "cell_type": "code",
      "source": [
        "x = np.array([7, 2, 3, 1, 6, 5, 4])\n",
        "np.partition(x, 3)"
      ],
      "metadata": {
        "colab": {
          "base_uri": "https://localhost:8080/"
        },
        "id": "R-6NtXIsRCMS",
        "outputId": "64e17f16-6e3f-457a-c180-4ced8a86d90d"
      },
      "execution_count": 221,
      "outputs": [
        {
          "output_type": "execute_result",
          "data": {
            "text/plain": [
              "array([1, 2, 3, 4, 5, 6, 7])"
            ]
          },
          "metadata": {},
          "execution_count": 221
        }
      ]
    },
    {
      "cell_type": "code",
      "source": [
        "np.partition(X, 2, axis=1)"
      ],
      "metadata": {
        "colab": {
          "base_uri": "https://localhost:8080/"
        },
        "id": "3P2oDNJkRjrF",
        "outputId": "9a336d69-8801-461a-c86a-fbb4b6bc6fae"
      },
      "execution_count": 222,
      "outputs": [
        {
          "output_type": "execute_result",
          "data": {
            "text/plain": [
              "array([[3, 4, 6, 6, 7, 9],\n",
              "       [2, 3, 4, 6, 7, 7],\n",
              "       [1, 2, 4, 5, 7, 7],\n",
              "       [0, 1, 4, 5, 5, 9]])"
            ]
          },
          "metadata": {},
          "execution_count": 222
        }
      ]
    },
    {
      "cell_type": "markdown",
      "source": [
        "##Example: k-nearest neighbors"
      ],
      "metadata": {
        "id": "9jzwbmG3S-X7"
      }
    },
    {
      "cell_type": "code",
      "source": [
        "X = rand.rand(10, 2)"
      ],
      "metadata": {
        "id": "sYDjyI3RTEQp"
      },
      "execution_count": 223,
      "outputs": []
    },
    {
      "cell_type": "code",
      "source": [
        "plt.scatter(X[:, 0], X[:, 1], s=100);"
      ],
      "metadata": {
        "colab": {
          "base_uri": "https://localhost:8080/",
          "height": 434
        },
        "id": "cIYOVeuLTek3",
        "outputId": "6bf98d03-6135-4aa1-b4fd-bd0752f75bf7"
      },
      "execution_count": 224,
      "outputs": [
        {
          "output_type": "display_data",
          "data": {
            "text/plain": [
              "<Figure size 640x480 with 1 Axes>"
            ],
            "image/png": "[encoded data removed]"
          },
          "metadata": {}
        }
      ]
    },
    {
      "cell_type": "code",
      "source": [
        "dist_sq = np.sum((X[:, np.newaxis, :] - X[np.newaxis, :, :]) ** 2, axis=-1)"
      ],
      "metadata": {
        "id": "CO0-1GlDT9nD"
      },
      "execution_count": 225,
      "outputs": []
    },
    {
      "cell_type": "code",
      "source": [
        "differences = X[:, np.newaxis, :] - X[np.newaxis, :, :]\n",
        "differences.shape"
      ],
      "metadata": {
        "colab": {
          "base_uri": "https://localhost:8080/"
        },
        "id": "iu4OujYGUKnN",
        "outputId": "146b17f9-b4f0-48d6-a413-d4aaaac618eb"
      },
      "execution_count": 226,
      "outputs": [
        {
          "output_type": "execute_result",
          "data": {
            "text/plain": [
              "(10, 10, 2)"
            ]
          },
          "metadata": {},
          "execution_count": 226
        }
      ]
    },
    {
      "cell_type": "code",
      "source": [
        "sq_differences = differences ** 2\n",
        "sq_differences.shape"
      ],
      "metadata": {
        "colab": {
          "base_uri": "https://localhost:8080/"
        },
        "id": "iEXTF8GbUcJn",
        "outputId": "b1dd103b-4718-4d19-c928-ce10a98fa1bb"
      },
      "execution_count": 227,
      "outputs": [
        {
          "output_type": "execute_result",
          "data": {
            "text/plain": [
              "(10, 10, 2)"
            ]
          },
          "metadata": {},
          "execution_count": 227
        }
      ]
    },
    {
      "cell_type": "code",
      "source": [
        "dist_sq = sq_differences.sum(-1)\n",
        "dist_sq.shape"
      ],
      "metadata": {
        "colab": {
          "base_uri": "https://localhost:8080/"
        },
        "id": "lLKyMz6PUtCS",
        "outputId": "2d5a5e55-af3a-49be-824a-70707e098710"
      },
      "execution_count": 228,
      "outputs": [
        {
          "output_type": "execute_result",
          "data": {
            "text/plain": [
              "(10, 10)"
            ]
          },
          "metadata": {},
          "execution_count": 228
        }
      ]
    },
    {
      "cell_type": "code",
      "source": [
        "dist_sq.diagonal()"
      ],
      "metadata": {
        "colab": {
          "base_uri": "https://localhost:8080/"
        },
        "id": "atzgm5xdU0hW",
        "outputId": "15cad518-c07a-4aa9-b137-0a36d82c56fb"
      },
      "execution_count": 229,
      "outputs": [
        {
          "output_type": "execute_result",
          "data": {
            "text/plain": [
              "array([0., 0., 0., 0., 0., 0., 0., 0., 0., 0.])"
            ]
          },
          "metadata": {},
          "execution_count": 229
        }
      ]
    },
    {
      "cell_type": "code",
      "source": [
        "nearest = np.argsort(dist_sq, axis=1)\n",
        "print(nearest)"
      ],
      "metadata": {
        "colab": {
          "base_uri": "https://localhost:8080/"
        },
        "id": "8xnC_QR9VBTu",
        "outputId": "8a90b4b6-5a3f-49a4-8b71-a6084aa726e0"
      },
      "execution_count": 230,
      "outputs": [
        {
          "output_type": "stream",
          "name": "stdout",
          "text": [
            "[[0 3 9 7 1 4 2 5 6 8]\n",
            " [1 4 7 9 3 6 8 5 0 2]\n",
            " [2 1 4 6 3 0 8 9 7 5]\n",
            " [3 9 7 0 1 4 5 8 6 2]\n",
            " [4 1 8 5 6 7 9 3 0 2]\n",
            " [5 8 6 4 1 7 9 3 2 0]\n",
            " [6 8 5 4 1 7 9 3 2 0]\n",
            " [7 9 3 1 4 0 5 8 6 2]\n",
            " [8 5 6 4 1 7 9 3 2 0]\n",
            " [9 7 3 0 1 4 5 8 6 2]]\n"
          ]
        }
      ]
    },
    {
      "cell_type": "code",
      "source": [
        "K = 2\n",
        "nearest_partition = np.argpartition(dist_sq, K + 1, axis=1)"
      ],
      "metadata": {
        "id": "N5DGnn6TrLP6"
      },
      "execution_count": 231,
      "outputs": []
    },
    {
      "cell_type": "code",
      "source": [
        "plt.scatter(X[:, 0], X[:, 1], s=100)\n",
        "\n",
        "K = 2\n",
        "\n",
        "for i in range(X.shape[0]):\n",
        "  for j in nearest_partition[i, :K + 1]:\n",
        "    plt.plot(*zip(X[j], X[i]), color='black')"
      ],
      "metadata": {
        "colab": {
          "base_uri": "https://localhost:8080/",
          "height": 434
        },
        "id": "w2DLZXy8rcis",
        "outputId": "03b175e7-8ad3-48df-a79d-92e99de2349c"
      },
      "execution_count": 232,
      "outputs": [
        {
          "output_type": "display_data",
          "data": {
            "text/plain": [
              "<Figure size 640x480 with 1 Axes>"
            ],
            "image/png": "[encoded data removed]"
          },
          "metadata": {}
        }
      ]
    },
    {
      "cell_type": "markdown",
      "source": [
        "#Structured data: numpy's structured arrays"
      ],
      "metadata": {
        "id": "vtqLMDklNW89"
      }
    },
    {
      "cell_type": "code",
      "source": [
        "name = ['Alice', 'Bob', 'Cathy', 'Doug']\n",
        "age = [25, 45, 37, 19]\n",
        "weight = [55.0, 85.5, 68.0, 61.5]"
      ],
      "metadata": {
        "id": "vlywAmfMNuj_"
      },
      "execution_count": 233,
      "outputs": []
    },
    {
      "cell_type": "code",
      "source": [
        "x = np.zeros(4, dtype=int)"
      ],
      "metadata": {
        "id": "xrnWEuhXOlh2"
      },
      "execution_count": 234,
      "outputs": []
    },
    {
      "cell_type": "code",
      "source": [
        "data = np.zeros(4, dtype={'names': ('name', 'age', 'weight'),\n",
        "                          'formats': ('U10', 'i4', 'f8')})\n",
        "print(data.dtype)"
      ],
      "metadata": {
        "id": "Z59tB758O20j",
        "outputId": "be95ab72-d0e7-43ac-ea05-e9562693bac9",
        "colab": {
          "base_uri": "https://localhost:8080/"
        }
      },
      "execution_count": 235,
      "outputs": [
        {
          "output_type": "stream",
          "name": "stdout",
          "text": [
            "[('name', '<U10'), ('age', '<i4'), ('weight', '<f8')]\n"
          ]
        }
      ]
    },
    {
      "cell_type": "code",
      "source": [
        "data['name'] = name\n",
        "data['age'] = age\n",
        "data['weight'] = weight\n",
        "print(data)"
      ],
      "metadata": {
        "id": "p3z5mDYxfO2M",
        "outputId": "7c719020-066d-42ab-bd1b-47b3ddaed7e4",
        "colab": {
          "base_uri": "https://localhost:8080/"
        }
      },
      "execution_count": 236,
      "outputs": [
        {
          "output_type": "stream",
          "name": "stdout",
          "text": [
            "[('Alice', 25, 55. ) ('Bob', 45, 85.5) ('Cathy', 37, 68. )\n",
            " ('Doug', 19, 61.5)]\n"
          ]
        }
      ]
    },
    {
      "cell_type": "code",
      "source": [
        "data['name']"
      ],
      "metadata": {
        "id": "NwW_lXkNfZ-y",
        "outputId": "ac7b2b57-b5d1-4164-cdfc-8354892121e9",
        "colab": {
          "base_uri": "https://localhost:8080/"
        }
      },
      "execution_count": 237,
      "outputs": [
        {
          "output_type": "execute_result",
          "data": {
            "text/plain": [
              "array(['Alice', 'Bob', 'Cathy', 'Doug'], dtype='<U10')"
            ]
          },
          "metadata": {},
          "execution_count": 237
        }
      ]
    },
    {
      "cell_type": "code",
      "source": [
        "data[0]"
      ],
      "metadata": {
        "id": "GutOTnYJfmLD",
        "outputId": "42b73352-daab-4046-c9a6-c314ddd0e7d6",
        "colab": {
          "base_uri": "https://localhost:8080/"
        }
      },
      "execution_count": 238,
      "outputs": [
        {
          "output_type": "execute_result",
          "data": {
            "text/plain": [
              "np.void(('Alice', 25, 55.0), dtype=[('name', '<U10'), ('age', '<i4'), ('weight', '<f8')])"
            ]
          },
          "metadata": {},
          "execution_count": 238
        }
      ]
    },
    {
      "cell_type": "code",
      "source": [
        "data[-1]['name']"
      ],
      "metadata": {
        "id": "sP6shUbOfpMT",
        "outputId": "cd99ba65-f592-449c-fa23-df42184c2c9d",
        "colab": {
          "base_uri": "https://localhost:8080/",
          "height": 34
        }
      },
      "execution_count": 239,
      "outputs": [
        {
          "output_type": "execute_result",
          "data": {
            "text/plain": [
              "np.str_('Doug')"
            ],
            "application/vnd.google.colaboratory.intrinsic+json": {
              "type": "string"
            }
          },
          "metadata": {},
          "execution_count": 239
        }
      ]
    },
    {
      "cell_type": "code",
      "source": [
        "data[data['age'] < 30]['name']"
      ],
      "metadata": {
        "id": "Cn7XTH97fr-r",
        "outputId": "3a6398c9-2657-4698-f21e-72a63fd99182",
        "colab": {
          "base_uri": "https://localhost:8080/"
        }
      },
      "execution_count": 240,
      "outputs": [
        {
          "output_type": "execute_result",
          "data": {
            "text/plain": [
              "array(['Alice', 'Doug'], dtype='<U10')"
            ]
          },
          "metadata": {},
          "execution_count": 240
        }
      ]
    },
    {
      "cell_type": "markdown",
      "source": [
        "##Creating structured arrays"
      ],
      "metadata": {
        "id": "_IE51Nbhf_48"
      }
    },
    {
      "cell_type": "code",
      "source": [
        "np.dtype({'names': ('name', 'age', 'weight'),\n",
        "          'formats': ('U10', 'i4', 'f8')})"
      ],
      "metadata": {
        "id": "QLCHAPZBf2Ab",
        "outputId": "1ae6f966-06f9-4e76-9859-1f8c3c4ef6d7",
        "colab": {
          "base_uri": "https://localhost:8080/"
        }
      },
      "execution_count": 241,
      "outputs": [
        {
          "output_type": "execute_result",
          "data": {
            "text/plain": [
              "dtype([('name', '<U10'), ('age', '<i4'), ('weight', '<f8')])"
            ]
          },
          "metadata": {},
          "execution_count": 241
        }
      ]
    },
    {
      "cell_type": "code",
      "source": [
        "np.dtype({'names': ('name', 'age', 'weight'),\n",
        "          'formats': ((np.str_, 10), int, np.float32)})"
      ],
      "metadata": {
        "id": "Os4F5MzpgWNd",
        "outputId": "9ebc73d2-f0bd-4d0a-a26a-da4099739b9f",
        "colab": {
          "base_uri": "https://localhost:8080/"
        }
      },
      "execution_count": 242,
      "outputs": [
        {
          "output_type": "execute_result",
          "data": {
            "text/plain": [
              "dtype([('name', '<U10'), ('age', '<i8'), ('weight', '<f4')])"
            ]
          },
          "metadata": {},
          "execution_count": 242
        }
      ]
    },
    {
      "cell_type": "code",
      "source": [
        "np.dtype([('name', 'S10'), ('age', 'i4'), ('weight', 'f8')])"
      ],
      "metadata": {
        "id": "chSqCcK9gnQe",
        "outputId": "5cec3446-860a-46e7-b8a1-5ca5570469d5",
        "colab": {
          "base_uri": "https://localhost:8080/"
        }
      },
      "execution_count": 243,
      "outputs": [
        {
          "output_type": "execute_result",
          "data": {
            "text/plain": [
              "dtype([('name', 'S10'), ('age', '<i4'), ('weight', '<f8')])"
            ]
          },
          "metadata": {},
          "execution_count": 243
        }
      ]
    },
    {
      "cell_type": "code",
      "source": [
        "np.dtype('S10,i4,f8')"
      ],
      "metadata": {
        "id": "wdkO4LZfg0cN",
        "outputId": "960a202b-daf4-4cc4-d88a-af3dbaa49ed3",
        "colab": {
          "base_uri": "https://localhost:8080/"
        }
      },
      "execution_count": 244,
      "outputs": [
        {
          "output_type": "execute_result",
          "data": {
            "text/plain": [
              "dtype([('f0', 'S10'), ('f1', '<i4'), ('f2', '<f8')])"
            ]
          },
          "metadata": {},
          "execution_count": 244
        }
      ]
    },
    {
      "cell_type": "markdown",
      "source": [
        "##More advanced compound types"
      ],
      "metadata": {
        "id": "AHZ-tX6ehaEo"
      }
    },
    {
      "cell_type": "code",
      "source": [
        "tp = np.dtype([('id', 'i8'), ('mat', 'f8', (3, 3))])\n",
        "X = np.zeros(1, dtype=tp)\n",
        "print(X[0])\n",
        "print(X['mat'][0])"
      ],
      "metadata": {
        "id": "lUHEi3Tuhctd",
        "outputId": "1e1d123c-c400-4cc4-dea2-29d9cf3b62e7",
        "colab": {
          "base_uri": "https://localhost:8080/"
        }
      },
      "execution_count": 245,
      "outputs": [
        {
          "output_type": "stream",
          "name": "stdout",
          "text": [
            "(0, [[0.0, 0.0, 0.0], [0.0, 0.0, 0.0], [0.0, 0.0, 0.0]])\n",
            "[[0. 0. 0.]\n",
            " [0. 0. 0.]\n",
            " [0. 0. 0.]]\n"
          ]
        }
      ]
    },
    {
      "cell_type": "markdown",
      "source": [
        "##RecordArrays: structured arrays with a twist"
      ],
      "metadata": {
        "id": "D2REDRycs5Z9"
      }
    },
    {
      "cell_type": "code",
      "source": [
        "data['age']"
      ],
      "metadata": {
        "id": "27A5CY2voa5t",
        "outputId": "b17df850-ab0b-429a-da0b-9f09bcc220b9",
        "colab": {
          "base_uri": "https://localhost:8080/"
        }
      },
      "execution_count": 246,
      "outputs": [
        {
          "output_type": "execute_result",
          "data": {
            "text/plain": [
              "array([25, 45, 37, 19], dtype=int32)"
            ]
          },
          "metadata": {},
          "execution_count": 246
        }
      ]
    },
    {
      "cell_type": "code",
      "source": [
        "data_rec = data.view(np.recarray)\n",
        "data_rec.age"
      ],
      "metadata": {
        "id": "y15GemUhokis",
        "outputId": "50d0e86c-e8ce-4ffa-dad0-140bf1fd8485",
        "colab": {
          "base_uri": "https://localhost:8080/"
        }
      },
      "execution_count": 247,
      "outputs": [
        {
          "output_type": "execute_result",
          "data": {
            "text/plain": [
              "array([25, 45, 37, 19], dtype=int32)"
            ]
          },
          "metadata": {},
          "execution_count": 247
        }
      ]
    },
    {
      "cell_type": "code",
      "source": [
        "%timeit data['age']\n",
        "%timeit data_rec['age']\n",
        "%timeit data_rec.age"
      ],
      "metadata": {
        "id": "PQnIr8J-oq5c",
        "outputId": "362565a5-c448-463f-f4c4-223dfb1008ab",
        "colab": {
          "base_uri": "https://localhost:8080/"
        }
      },
      "execution_count": 248,
      "outputs": [
        {
          "output_type": "stream",
          "name": "stdout",
          "text": [
            "132 ns ± 33.8 ns per loop (mean ± std. dev. of 7 runs, 10000000 loops each)\n",
            "1.79 µs ± 291 ns per loop (mean ± std. dev. of 7 runs, 1000000 loops each)\n",
            "3.01 µs ± 113 ns per loop (mean ± std. dev. of 7 runs, 100000 loops each)\n"
          ]
        }
      ]
    },
    {
      "cell_type": "markdown",
      "source": [
        "#Deep learning"
      ],
      "metadata": {
        "id": "EPwuvshCVzWD"
      }
    },
    {
      "cell_type": "code",
      "source": [
        "def naive_relu(x):\n",
        "  assert len(x.shape) == 2\n",
        "  x = x.copy()\n",
        "  for i in range(x.shape[0]):\n",
        "    for j in range(x.shape[1]):\n",
        "      x[i, j] = max(x[i, j], 0)\n",
        "  return x"
      ],
      "metadata": {
        "id": "7JZ7srSlIojR"
      },
      "execution_count": 249,
      "outputs": []
    },
    {
      "cell_type": "code",
      "source": [
        "def naive_add(x, y):\n",
        "  assert len(x.shape) == 2\n",
        "  assert x.shape == y.shape\n",
        "  x = x.copy()\n",
        "  for i in range(x.shape[0]):\n",
        "    for j in range(x.shape[1]):\n",
        "      x[i, j] += y[i, j]\n",
        "  return x"
      ],
      "metadata": {
        "id": "G4H47aBASQtj"
      },
      "execution_count": 250,
      "outputs": []
    },
    {
      "cell_type": "code",
      "source": [
        "import time\n",
        "\n",
        "x = np.random.random((20, 100))   #Matrix 20 x 100\n",
        "y = np.random.random((20, 100))\n",
        "\n",
        "t0 = time.time()\n",
        "for _ in range(1000):\n",
        "  z = x + y\n",
        "  z = np.maximum(z, 0.)\n",
        "print('Took: {0:.2f} s'.format(time.time() - t0))"
      ],
      "metadata": {
        "id": "iHoNWkKIS2C2",
        "colab": {
          "base_uri": "https://localhost:8080/"
        },
        "outputId": "e85f9483-5893-4016-a6ea-4d454c730db5"
      },
      "execution_count": 251,
      "outputs": [
        {
          "output_type": "stream",
          "name": "stdout",
          "text": [
            "Took: 0.01 s\n"
          ]
        }
      ]
    },
    {
      "cell_type": "code",
      "source": [
        "t0 = time.time()\n",
        "for _ in range(1000):\n",
        "  z = naive_add(x, y)\n",
        "  z = naive_relu(z)\n",
        "print('Took: {0:.2f} s'.format(time.time() - t0))"
      ],
      "metadata": {
        "colab": {
          "base_uri": "https://localhost:8080/"
        },
        "id": "NFawIufb-50E",
        "outputId": "ed02b885-f601-44ab-c93a-3b606295d5f6"
      },
      "execution_count": 252,
      "outputs": [
        {
          "output_type": "stream",
          "name": "stdout",
          "text": [
            "Took: 3.09 s\n"
          ]
        }
      ]
    },
    {
      "cell_type": "code",
      "source": [
        "import numpy as np\n",
        "\n",
        "#Broadcast\n",
        "x = np.random.random((32, 10))\n",
        "y = np.random.random((10,))\n",
        "y = np.expand_dims(y, axis=0)\n",
        "Y = np.concatenate([y] * 32, axis=0)\n",
        "Y.shape"
      ],
      "metadata": {
        "colab": {
          "base_uri": "https://localhost:8080/"
        },
        "id": "ib6hMeA1_MN6",
        "outputId": "6da1c3eb-7d69-4ceb-f6cd-6ee1e6440bdd"
      },
      "execution_count": 253,
      "outputs": [
        {
          "output_type": "execute_result",
          "data": {
            "text/plain": [
              "(32, 10)"
            ]
          },
          "metadata": {},
          "execution_count": 253
        }
      ]
    },
    {
      "cell_type": "code",
      "source": [
        "#Broadcast\n",
        "def naive_add_matrix_and_vector(x, y):\n",
        "  assert len(x.shape) == 2\n",
        "  assert len(y.shape) == 1\n",
        "  assert x.shape[1] == y.shape[0]\n",
        "  x = x.copy()\n",
        "  for i in range(x.shape[0]):\n",
        "    for j in range(x.shape[1]):\n",
        "      x[i, j] += y[j]\n",
        "  return x"
      ],
      "metadata": {
        "id": "OrBceBnHAtfh"
      },
      "execution_count": 254,
      "outputs": []
    },
    {
      "cell_type": "code",
      "source": [
        "import numpy as np\n",
        "\n",
        "x = np.random.random((64, 3, 32, 10))\n",
        "y = np.random.random((32, 10))\n",
        "z = np.maximum(x, y)   #Broadcast\n",
        "z.shape"
      ],
      "metadata": {
        "colab": {
          "base_uri": "https://localhost:8080/"
        },
        "id": "bC2KxwXvCUGj",
        "outputId": "101a37a3-32d8-4308-de6f-cf49dfa0052f"
      },
      "execution_count": 255,
      "outputs": [
        {
          "output_type": "execute_result",
          "data": {
            "text/plain": [
              "(64, 3, 32, 10)"
            ]
          },
          "metadata": {},
          "execution_count": 255
        }
      ]
    },
    {
      "cell_type": "code",
      "source": [
        "x = np.random.random((32,))\n",
        "y = np.random.random((32,))\n",
        "z = np.dot(x, y)   #Dot product\n",
        "z"
      ],
      "metadata": {
        "colab": {
          "base_uri": "https://localhost:8080/"
        },
        "id": "d2GJ3EJvCkcy",
        "outputId": "cf00ef81-15f7-48a3-85b2-352aa80b7412"
      },
      "execution_count": 256,
      "outputs": [
        {
          "output_type": "execute_result",
          "data": {
            "text/plain": [
              "np.float64(8.675972377913844)"
            ]
          },
          "metadata": {},
          "execution_count": 256
        }
      ]
    },
    {
      "cell_type": "code",
      "source": [
        "def naive_vector_dot(x, y):   #Dot product\n",
        "  assert len(x.shape) == 1\n",
        "  assert len(y.shape) == 1\n",
        "  assert x.shape[0] == y.shape[0]\n",
        "  z = 0.\n",
        "  for i in range(x.shape[0]):\n",
        "    z += x[i] * y[i]\n",
        "  return z"
      ],
      "metadata": {
        "id": "u_4IX9glC9Ad"
      },
      "execution_count": 257,
      "outputs": []
    },
    {
      "cell_type": "code",
      "source": [
        "def naive_matrix_vector_dot(x, y):   #Matrix multiplication between a matrix and a vector\n",
        "  assert len(x.shape) == 2\n",
        "  assert len(y.shape) == 1\n",
        "  assert x.shape[1] == y.shape[0]\n",
        "  z = np.zeros(x.shape[0])\n",
        "  for i in range(x.shape[0]):\n",
        "    #for j in range(x.shape[1]):\n",
        "    #  z[i] += x[i, j] * y[j]\n",
        "    z[i] = naive_vector_dot(x[i, :], y)\n",
        "  return z"
      ],
      "metadata": {
        "id": "sExadbWcDcw_"
      },
      "execution_count": 258,
      "outputs": []
    },
    {
      "cell_type": "code",
      "source": [
        "def naive_matrix_dot(x, y):   #Matrix multiplication\n",
        "  assert len(x.shape) == 2\n",
        "  assert len(y.shape) == 2\n",
        "  assert x.shape[1] == y.shape[0]\n",
        "  z = np.zeros((x.shape[0], y.shape[1]))\n",
        "  for i in range(x.shape[0]):\n",
        "    for j in range(y.shape[1]):\n",
        "      row_x = x[i, :]\n",
        "      column_y = y[:, j]\n",
        "      z[i, j] = naive_vector_dot(row_x, column_y)\n",
        "  return z"
      ],
      "metadata": {
        "id": "x03mfJCTEVU7"
      },
      "execution_count": 259,
      "outputs": []
    },
    {
      "cell_type": "code",
      "source": [
        "x = np.array([[0., 1.],\n",
        "              [2., 3.],\n",
        "              [4., 5.]])\n",
        "x.shape"
      ],
      "metadata": {
        "colab": {
          "base_uri": "https://localhost:8080/"
        },
        "id": "yVTgwoaqGoz7",
        "outputId": "e6f2a1e6-4c3d-460f-b3d8-7f4712b007ad"
      },
      "execution_count": 260,
      "outputs": [
        {
          "output_type": "execute_result",
          "data": {
            "text/plain": [
              "(3, 2)"
            ]
          },
          "metadata": {},
          "execution_count": 260
        }
      ]
    },
    {
      "cell_type": "code",
      "source": [
        "x = x.reshape((6, 1))\n",
        "x"
      ],
      "metadata": {
        "id": "nKO8i4wyOmAk",
        "outputId": "dea3ff75-dbe4-4e4d-8a8c-d4bedd438ff7",
        "colab": {
          "base_uri": "https://localhost:8080/"
        }
      },
      "execution_count": 261,
      "outputs": [
        {
          "output_type": "execute_result",
          "data": {
            "text/plain": [
              "array([[0.],\n",
              "       [1.],\n",
              "       [2.],\n",
              "       [3.],\n",
              "       [4.],\n",
              "       [5.]])"
            ]
          },
          "metadata": {},
          "execution_count": 261
        }
      ]
    },
    {
      "cell_type": "code",
      "source": [
        "x = x.reshape((2, 3))\n",
        "x"
      ],
      "metadata": {
        "id": "O1tf6hKSOrsp",
        "outputId": "514b215c-151c-4b55-f34b-d627320b6076",
        "colab": {
          "base_uri": "https://localhost:8080/"
        }
      },
      "execution_count": 262,
      "outputs": [
        {
          "output_type": "execute_result",
          "data": {
            "text/plain": [
              "array([[0., 1., 2.],\n",
              "       [3., 4., 5.]])"
            ]
          },
          "metadata": {},
          "execution_count": 262
        }
      ]
    },
    {
      "cell_type": "code",
      "source": [
        "x = np.zeros((300, 20))\n",
        "x = np.transpose(x)\n",
        "x.shape"
      ],
      "metadata": {
        "id": "zN2iAuwIOx6y",
        "outputId": "a98f81d1-3745-446e-d5d0-102a7d4e6413",
        "colab": {
          "base_uri": "https://localhost:8080/"
        }
      },
      "execution_count": 263,
      "outputs": [
        {
          "output_type": "execute_result",
          "data": {
            "text/plain": [
              "(20, 300)"
            ]
          },
          "metadata": {},
          "execution_count": 263
        }
      ]
    },
    {
      "cell_type": "code",
      "source": [],
      "metadata": {
        "id": "LGdX4jDbPQD5"
      },
      "execution_count": 263,
      "outputs": []
    }
  ]
}